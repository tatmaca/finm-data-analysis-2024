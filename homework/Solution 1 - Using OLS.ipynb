{
 "cells": [
  {
   "cell_type": "markdown",
   "id": "ce9737a3",
   "metadata": {},
   "source": [
    "# Solution 1 - Using OLS\n",
    "## Data Analysis\n",
    "### FINM August Review \n",
    "\n",
    "Mark Hendricks\n",
    "\n",
    "hendricks@uchicago.edu"
   ]
  },
  {
   "cell_type": "markdown",
   "id": "1ff90b93",
   "metadata": {},
   "source": [
    "$$\\newcommand{\\spy}{\\text{spy}}$$\n",
    "$$\\newcommand{\\hyg}{\\text{hyg}}$$\n",
    "\n",
    "# Data\n",
    "* This homework uses the file, `data/multi_asset_etf_data.xlsx`.\n",
    "* Find the data in the Github repo associated with the module, (link on Canvas.)\n",
    "\n",
    "The data file contains...\n",
    "* Return rates, $r_t^i$, for various asset classes, (via ETFs.)\n",
    "* Most notable among these securities is SPY, the return on the S&P 500. Denote this as $r^{\\spy}_t$.\n",
    "* A separate tab gives return rates for a particular portfolio, $r_t^p$."
   ]
  },
  {
   "cell_type": "markdown",
   "id": "3d6742cb",
   "metadata": {},
   "source": [
    "# 1. Regression\n",
    "## 1. \n",
    "Estimate the regression of the portfolio return on SPY:\n",
    "\n",
    "$$r^p_t = \\alpha + \\beta r^{\\spy}_t + \\epsilon_t^{p,\\spy}$$\n",
    "\n",
    "Specifically, report your estimates of alpha, beta, and the r-squared.\n",
    "\n",
    "## 2. \n",
    "Estimate the regression of the portfolio return on SPY and on HYG, the return on high-yield\n",
    "corporate bonds, denoted as $r^{\\hyg}_t$:\n",
    "\n",
    "$$r^p_t = {\\alpha} + {\\beta}^{\\spy}r^{\\spy}_t + {\\beta}^{\\hyg}r^{\\hyg}_t + {\\epsilon}_t$$\n",
    "\n",
    "Specifically, report your estimates of alpha, the betas, and the r-squared.\n",
    "\n",
    "*Note that the parameters (such as $\\beta^{\\spy}$) in this multivariate model are not the same as used in the univariate model of part 1. \n",
    "\n",
    "## 3. \n",
    "Calculate the series of fitted regression values, sometimes referred to as $\\hat{y}$ in standard textbooks:\n",
    "\n",
    "$$\\hat{r}^p_t = \\hat{\\alpha} + \\hat{\\beta}^{\\spy}r^{\\spy}_t + \\hat{\\beta}^{\\hyg}r^{\\hyg}_t$$\n",
    "\n",
    "Your statistical package will output these fitted values for you, or you can construct them using the estimated parameters.\n",
    "\n",
    "How does this compare to the r-squared of the regression in problem 2?\n",
    "\n",
    "## 4. \n",
    "How do the SPY betas differ across the univariate and multivariate models? How does this relate to the\n",
    "correlation between $r^{\\spy}$ and $r^{\\hyg}$?\n",
    "\n",
    "## 5. \n",
    "Without doing any calculation, would you expect the sample residual of the univariate regression or multivariate regression to have higher correlation to $r^{\\hyg}$?"
   ]
  },
  {
   "cell_type": "markdown",
   "id": "df231a80",
   "metadata": {},
   "source": [
    "# <span style='color:red'>Solution 1</span>"
   ]
  },
  {
   "cell_type": "code",
   "execution_count": 2,
   "id": "64999593",
   "metadata": {
    "ExecuteTime": {
     "end_time": "2021-06-24T01:37:08.632979Z",
     "start_time": "2021-06-24T01:37:08.625990Z"
    },
    "jupyter": {
     "source_hidden": true
    }
   },
   "outputs": [],
   "source": [
    "import pandas as pd\n",
    "import numpy as np\n",
    "import statsmodels.api as sm\n",
    "from sklearn.linear_model import LinearRegression\n",
    "from matplotlib import pyplot as plt"
   ]
  },
  {
   "cell_type": "code",
   "execution_count": 3,
   "id": "0b8bb30e",
   "metadata": {
    "jupyter": {
     "source_hidden": true
    }
   },
   "outputs": [
    {
     "data": {
      "text/html": [
       "<div>\n",
       "<style scoped>\n",
       "    .dataframe tbody tr th:only-of-type {\n",
       "        vertical-align: middle;\n",
       "    }\n",
       "\n",
       "    .dataframe tbody tr th {\n",
       "        vertical-align: top;\n",
       "    }\n",
       "\n",
       "    .dataframe thead th {\n",
       "        text-align: right;\n",
       "    }\n",
       "</style>\n",
       "<table border=\"1\" class=\"dataframe\">\n",
       "  <thead>\n",
       "    <tr style=\"text-align: right;\">\n",
       "      <th></th>\n",
       "      <th>shortName</th>\n",
       "      <th>quoteType</th>\n",
       "      <th>currency</th>\n",
       "      <th>volume</th>\n",
       "      <th>totalAssets</th>\n",
       "      <th>longBusinessSummary</th>\n",
       "    </tr>\n",
       "    <tr>\n",
       "      <th>ticker</th>\n",
       "      <th></th>\n",
       "      <th></th>\n",
       "      <th></th>\n",
       "      <th></th>\n",
       "      <th></th>\n",
       "      <th></th>\n",
       "    </tr>\n",
       "  </thead>\n",
       "  <tbody>\n",
       "    <tr>\n",
       "      <th>SPY</th>\n",
       "      <td>SPDR S&amp;P 500</td>\n",
       "      <td>ETF</td>\n",
       "      <td>USD</td>\n",
       "      <td>31915489</td>\n",
       "      <td>533350318080</td>\n",
       "      <td>The Trust seeks to achieve its investment obje...</td>\n",
       "    </tr>\n",
       "    <tr>\n",
       "      <th>EFA</th>\n",
       "      <td>iShares MSCI EAFE ETF</td>\n",
       "      <td>ETF</td>\n",
       "      <td>USD</td>\n",
       "      <td>14936082</td>\n",
       "      <td>54361296896</td>\n",
       "      <td>The fund generally will invest at least 80% of...</td>\n",
       "    </tr>\n",
       "    <tr>\n",
       "      <th>EEM</th>\n",
       "      <td>iShares MSCI Emerging Index Fun</td>\n",
       "      <td>ETF</td>\n",
       "      <td>USD</td>\n",
       "      <td>18737887</td>\n",
       "      <td>18598756352</td>\n",
       "      <td>The fund generally will invest at least 80% of...</td>\n",
       "    </tr>\n",
       "    <tr>\n",
       "      <th>PSP</th>\n",
       "      <td>Invesco Global Listed Private E</td>\n",
       "      <td>ETF</td>\n",
       "      <td>USD</td>\n",
       "      <td>7955</td>\n",
       "      <td>248697808</td>\n",
       "      <td>The fund generally will invest at least 90% of...</td>\n",
       "    </tr>\n",
       "    <tr>\n",
       "      <th>QAI</th>\n",
       "      <td>IQ Hedge MultiIQ Hedge Multi-St</td>\n",
       "      <td>ETF</td>\n",
       "      <td>USD</td>\n",
       "      <td>48268</td>\n",
       "      <td>560306880</td>\n",
       "      <td>The fund is a \"fund of funds\" which means it i...</td>\n",
       "    </tr>\n",
       "    <tr>\n",
       "      <th>HYG</th>\n",
       "      <td>iShares iBoxx $ High Yield Corp</td>\n",
       "      <td>ETF</td>\n",
       "      <td>USD</td>\n",
       "      <td>51364193</td>\n",
       "      <td>16733312000</td>\n",
       "      <td>The underlying index is a rules-based index co...</td>\n",
       "    </tr>\n",
       "    <tr>\n",
       "      <th>DBC</th>\n",
       "      <td>Invesco DB Commodity Index Trac</td>\n",
       "      <td>ETF</td>\n",
       "      <td>USD</td>\n",
       "      <td>891311</td>\n",
       "      <td>1784920832</td>\n",
       "      <td>The fund pursues its investment objective by i...</td>\n",
       "    </tr>\n",
       "    <tr>\n",
       "      <th>IYR</th>\n",
       "      <td>iShares U.S. Real Estate ETF</td>\n",
       "      <td>ETF</td>\n",
       "      <td>USD</td>\n",
       "      <td>3489431</td>\n",
       "      <td>2901542144</td>\n",
       "      <td>The fund seeks to track the investment results...</td>\n",
       "    </tr>\n",
       "    <tr>\n",
       "      <th>IEF</th>\n",
       "      <td>iShares 7-10 Year Treasury Bond</td>\n",
       "      <td>ETF</td>\n",
       "      <td>USD</td>\n",
       "      <td>5404923</td>\n",
       "      <td>29142607872</td>\n",
       "      <td>The underlying index measures the performance ...</td>\n",
       "    </tr>\n",
       "    <tr>\n",
       "      <th>BWX</th>\n",
       "      <td>SPDR Bloomberg International Tr</td>\n",
       "      <td>ETF</td>\n",
       "      <td>USD</td>\n",
       "      <td>150856</td>\n",
       "      <td>882341184</td>\n",
       "      <td>The fund generally invests substantially all, ...</td>\n",
       "    </tr>\n",
       "    <tr>\n",
       "      <th>TIP</th>\n",
       "      <td>iShares TIPS Bond ETF</td>\n",
       "      <td>ETF</td>\n",
       "      <td>USD</td>\n",
       "      <td>1395331</td>\n",
       "      <td>18260465664</td>\n",
       "      <td>The index tracks the performance of inflation-...</td>\n",
       "    </tr>\n",
       "    <tr>\n",
       "      <th>SHV</th>\n",
       "      <td>iShares Short Treasury Bond ETF</td>\n",
       "      <td>ETF</td>\n",
       "      <td>USD</td>\n",
       "      <td>1725044</td>\n",
       "      <td>19032737792</td>\n",
       "      <td>The fund will invest at least 80% of its asset...</td>\n",
       "    </tr>\n",
       "  </tbody>\n",
       "</table>\n",
       "</div>"
      ],
      "text/plain": [
       "                              shortName quoteType currency    volume  \\\n",
       "ticker                                                                 \n",
       "SPY                        SPDR S&P 500       ETF      USD  31915489   \n",
       "EFA               iShares MSCI EAFE ETF       ETF      USD  14936082   \n",
       "EEM     iShares MSCI Emerging Index Fun       ETF      USD  18737887   \n",
       "PSP     Invesco Global Listed Private E       ETF      USD      7955   \n",
       "QAI     IQ Hedge MultiIQ Hedge Multi-St       ETF      USD     48268   \n",
       "HYG     iShares iBoxx $ High Yield Corp       ETF      USD  51364193   \n",
       "DBC     Invesco DB Commodity Index Trac       ETF      USD    891311   \n",
       "IYR        iShares U.S. Real Estate ETF       ETF      USD   3489431   \n",
       "IEF     iShares 7-10 Year Treasury Bond       ETF      USD   5404923   \n",
       "BWX     SPDR Bloomberg International Tr       ETF      USD    150856   \n",
       "TIP               iShares TIPS Bond ETF       ETF      USD   1395331   \n",
       "SHV     iShares Short Treasury Bond ETF       ETF      USD   1725044   \n",
       "\n",
       "         totalAssets                                longBusinessSummary  \n",
       "ticker                                                                   \n",
       "SPY     533350318080  The Trust seeks to achieve its investment obje...  \n",
       "EFA      54361296896  The fund generally will invest at least 80% of...  \n",
       "EEM      18598756352  The fund generally will invest at least 80% of...  \n",
       "PSP        248697808  The fund generally will invest at least 90% of...  \n",
       "QAI        560306880  The fund is a \"fund of funds\" which means it i...  \n",
       "HYG      16733312000  The underlying index is a rules-based index co...  \n",
       "DBC       1784920832  The fund pursues its investment objective by i...  \n",
       "IYR       2901542144  The fund seeks to track the investment results...  \n",
       "IEF      29142607872  The underlying index measures the performance ...  \n",
       "BWX        882341184  The fund generally invests substantially all, ...  \n",
       "TIP      18260465664  The index tracks the performance of inflation-...  \n",
       "SHV      19032737792  The fund will invest at least 80% of its asset...  "
      ]
     },
     "execution_count": 3,
     "metadata": {},
     "output_type": "execute_result"
    }
   ],
   "source": [
    "INFILE = \"../data/multi_asset_etf_data.xlsx\"\n",
    "\n",
    "info = pd.read_excel(INFILE,sheet_name='info').set_index('ticker')\n",
    "info"
   ]
  },
  {
   "cell_type": "code",
   "execution_count": 3,
   "id": "123bfe0b",
   "metadata": {
    "ExecuteTime": {
     "end_time": "2021-06-24T01:37:08.687141Z",
     "start_time": "2021-06-24T01:37:08.635377Z"
    },
    "jupyter": {
     "source_hidden": true
    }
   },
   "outputs": [
    {
     "data": {
      "text/html": [
       "<div>\n",
       "<style scoped>\n",
       "    .dataframe tbody tr th:only-of-type {\n",
       "        vertical-align: middle;\n",
       "    }\n",
       "\n",
       "    .dataframe tbody tr th {\n",
       "        vertical-align: top;\n",
       "    }\n",
       "\n",
       "    .dataframe thead th {\n",
       "        text-align: right;\n",
       "    }\n",
       "</style>\n",
       "<table border=\"1\" class=\"dataframe\">\n",
       "  <thead>\n",
       "    <tr style=\"text-align: right;\">\n",
       "      <th></th>\n",
       "      <th>SPY</th>\n",
       "      <th>EFA</th>\n",
       "      <th>EEM</th>\n",
       "      <th>PSP</th>\n",
       "      <th>QAI</th>\n",
       "      <th>HYG</th>\n",
       "      <th>DBC</th>\n",
       "      <th>IYR</th>\n",
       "      <th>IEF</th>\n",
       "      <th>BWX</th>\n",
       "      <th>TIP</th>\n",
       "      <th>SHV</th>\n",
       "    </tr>\n",
       "    <tr>\n",
       "      <th>Date</th>\n",
       "      <th></th>\n",
       "      <th></th>\n",
       "      <th></th>\n",
       "      <th></th>\n",
       "      <th></th>\n",
       "      <th></th>\n",
       "      <th></th>\n",
       "      <th></th>\n",
       "      <th></th>\n",
       "      <th></th>\n",
       "      <th></th>\n",
       "      <th></th>\n",
       "    </tr>\n",
       "  </thead>\n",
       "  <tbody>\n",
       "    <tr>\n",
       "      <th>2009-04-30</th>\n",
       "      <td>0.099346</td>\n",
       "      <td>0.115190</td>\n",
       "      <td>0.155582</td>\n",
       "      <td>0.230203</td>\n",
       "      <td>0.022882</td>\n",
       "      <td>0.138462</td>\n",
       "      <td>-0.001000</td>\n",
       "      <td>0.296151</td>\n",
       "      <td>-0.027451</td>\n",
       "      <td>0.008993</td>\n",
       "      <td>-0.017952</td>\n",
       "      <td>0.000554</td>\n",
       "    </tr>\n",
       "    <tr>\n",
       "      <th>2009-05-31</th>\n",
       "      <td>0.058453</td>\n",
       "      <td>0.131918</td>\n",
       "      <td>0.159400</td>\n",
       "      <td>0.053892</td>\n",
       "      <td>0.027865</td>\n",
       "      <td>0.028554</td>\n",
       "      <td>0.162663</td>\n",
       "      <td>0.022727</td>\n",
       "      <td>-0.020773</td>\n",
       "      <td>0.053671</td>\n",
       "      <td>0.019968</td>\n",
       "      <td>-0.000472</td>\n",
       "    </tr>\n",
       "    <tr>\n",
       "      <th>2009-06-30</th>\n",
       "      <td>-0.000655</td>\n",
       "      <td>-0.014049</td>\n",
       "      <td>-0.022495</td>\n",
       "      <td>0.045449</td>\n",
       "      <td>-0.003436</td>\n",
       "      <td>0.033517</td>\n",
       "      <td>-0.026259</td>\n",
       "      <td>-0.024863</td>\n",
       "      <td>-0.005572</td>\n",
       "      <td>0.005149</td>\n",
       "      <td>0.001980</td>\n",
       "      <td>0.000599</td>\n",
       "    </tr>\n",
       "    <tr>\n",
       "      <th>2009-07-31</th>\n",
       "      <td>0.074606</td>\n",
       "      <td>0.100415</td>\n",
       "      <td>0.110146</td>\n",
       "      <td>0.143247</td>\n",
       "      <td>0.015326</td>\n",
       "      <td>0.069191</td>\n",
       "      <td>0.018568</td>\n",
       "      <td>0.105799</td>\n",
       "      <td>0.008318</td>\n",
       "      <td>0.031284</td>\n",
       "      <td>0.000879</td>\n",
       "      <td>-0.000027</td>\n",
       "    </tr>\n",
       "    <tr>\n",
       "      <th>2009-08-31</th>\n",
       "      <td>0.036939</td>\n",
       "      <td>0.045031</td>\n",
       "      <td>-0.013136</td>\n",
       "      <td>0.033413</td>\n",
       "      <td>-0.004151</td>\n",
       "      <td>-0.016970</td>\n",
       "      <td>-0.040365</td>\n",
       "      <td>0.131939</td>\n",
       "      <td>0.007634</td>\n",
       "      <td>0.007628</td>\n",
       "      <td>0.008414</td>\n",
       "      <td>0.000436</td>\n",
       "    </tr>\n",
       "    <tr>\n",
       "      <th>...</th>\n",
       "      <td>...</td>\n",
       "      <td>...</td>\n",
       "      <td>...</td>\n",
       "      <td>...</td>\n",
       "      <td>...</td>\n",
       "      <td>...</td>\n",
       "      <td>...</td>\n",
       "      <td>...</td>\n",
       "      <td>...</td>\n",
       "      <td>...</td>\n",
       "      <td>...</td>\n",
       "      <td>...</td>\n",
       "    </tr>\n",
       "    <tr>\n",
       "      <th>2023-01-31</th>\n",
       "      <td>0.062887</td>\n",
       "      <td>0.090037</td>\n",
       "      <td>0.091293</td>\n",
       "      <td>0.133475</td>\n",
       "      <td>0.029164</td>\n",
       "      <td>0.036670</td>\n",
       "      <td>0.008925</td>\n",
       "      <td>0.099774</td>\n",
       "      <td>0.035811</td>\n",
       "      <td>0.035666</td>\n",
       "      <td>0.020763</td>\n",
       "      <td>0.003275</td>\n",
       "    </tr>\n",
       "    <tr>\n",
       "      <th>2023-02-28</th>\n",
       "      <td>-0.025143</td>\n",
       "      <td>-0.030748</td>\n",
       "      <td>-0.075677</td>\n",
       "      <td>-0.006542</td>\n",
       "      <td>-0.008535</td>\n",
       "      <td>-0.018852</td>\n",
       "      <td>-0.044632</td>\n",
       "      <td>-0.059618</td>\n",
       "      <td>-0.032708</td>\n",
       "      <td>-0.046942</td>\n",
       "      <td>-0.013530</td>\n",
       "      <td>0.002912</td>\n",
       "    </tr>\n",
       "    <tr>\n",
       "      <th>2023-03-31</th>\n",
       "      <td>0.037078</td>\n",
       "      <td>0.031291</td>\n",
       "      <td>0.032174</td>\n",
       "      <td>-0.048918</td>\n",
       "      <td>0.005854</td>\n",
       "      <td>0.019843</td>\n",
       "      <td>-0.000842</td>\n",
       "      <td>-0.019370</td>\n",
       "      <td>0.037211</td>\n",
       "      <td>0.047101</td>\n",
       "      <td>0.028643</td>\n",
       "      <td>0.005094</td>\n",
       "    </tr>\n",
       "    <tr>\n",
       "      <th>2023-04-30</th>\n",
       "      <td>0.015975</td>\n",
       "      <td>0.029363</td>\n",
       "      <td>-0.008363</td>\n",
       "      <td>0.034619</td>\n",
       "      <td>0.005135</td>\n",
       "      <td>0.002021</td>\n",
       "      <td>-0.007582</td>\n",
       "      <td>0.009187</td>\n",
       "      <td>0.008148</td>\n",
       "      <td>-0.002512</td>\n",
       "      <td>0.000518</td>\n",
       "      <td>0.003097</td>\n",
       "    </tr>\n",
       "    <tr>\n",
       "      <th>2023-05-31</th>\n",
       "      <td>0.010218</td>\n",
       "      <td>-0.030019</td>\n",
       "      <td>-0.014822</td>\n",
       "      <td>-0.015296</td>\n",
       "      <td>-0.005450</td>\n",
       "      <td>-0.009249</td>\n",
       "      <td>-0.053480</td>\n",
       "      <td>-0.045285</td>\n",
       "      <td>-0.018102</td>\n",
       "      <td>-0.022916</td>\n",
       "      <td>-0.013238</td>\n",
       "      <td>0.003071</td>\n",
       "    </tr>\n",
       "  </tbody>\n",
       "</table>\n",
       "<p>170 rows × 12 columns</p>\n",
       "</div>"
      ],
      "text/plain": [
       "                 SPY       EFA       EEM       PSP       QAI       HYG  \\\n",
       "Date                                                                     \n",
       "2009-04-30  0.099346  0.115190  0.155582  0.230203  0.022882  0.138462   \n",
       "2009-05-31  0.058453  0.131918  0.159400  0.053892  0.027865  0.028554   \n",
       "2009-06-30 -0.000655 -0.014049 -0.022495  0.045449 -0.003436  0.033517   \n",
       "2009-07-31  0.074606  0.100415  0.110146  0.143247  0.015326  0.069191   \n",
       "2009-08-31  0.036939  0.045031 -0.013136  0.033413 -0.004151 -0.016970   \n",
       "...              ...       ...       ...       ...       ...       ...   \n",
       "2023-01-31  0.062887  0.090037  0.091293  0.133475  0.029164  0.036670   \n",
       "2023-02-28 -0.025143 -0.030748 -0.075677 -0.006542 -0.008535 -0.018852   \n",
       "2023-03-31  0.037078  0.031291  0.032174 -0.048918  0.005854  0.019843   \n",
       "2023-04-30  0.015975  0.029363 -0.008363  0.034619  0.005135  0.002021   \n",
       "2023-05-31  0.010218 -0.030019 -0.014822 -0.015296 -0.005450 -0.009249   \n",
       "\n",
       "                 DBC       IYR       IEF       BWX       TIP       SHV  \n",
       "Date                                                                    \n",
       "2009-04-30 -0.001000  0.296151 -0.027451  0.008993 -0.017952  0.000554  \n",
       "2009-05-31  0.162663  0.022727 -0.020773  0.053671  0.019968 -0.000472  \n",
       "2009-06-30 -0.026259 -0.024863 -0.005572  0.005149  0.001980  0.000599  \n",
       "2009-07-31  0.018568  0.105799  0.008318  0.031284  0.000879 -0.000027  \n",
       "2009-08-31 -0.040365  0.131939  0.007634  0.007628  0.008414  0.000436  \n",
       "...              ...       ...       ...       ...       ...       ...  \n",
       "2023-01-31  0.008925  0.099774  0.035811  0.035666  0.020763  0.003275  \n",
       "2023-02-28 -0.044632 -0.059618 -0.032708 -0.046942 -0.013530  0.002912  \n",
       "2023-03-31 -0.000842 -0.019370  0.037211  0.047101  0.028643  0.005094  \n",
       "2023-04-30 -0.007582  0.009187  0.008148 -0.002512  0.000518  0.003097  \n",
       "2023-05-31 -0.053480 -0.045285 -0.018102 -0.022916 -0.013238  0.003071  \n",
       "\n",
       "[170 rows x 12 columns]"
      ]
     },
     "execution_count": 3,
     "metadata": {},
     "output_type": "execute_result"
    }
   ],
   "source": [
    "rets = pd.read_excel(\"../data/hw_3_1_data.xlsx\",sheet_name='security returns').set_index('Date')\n",
    "rets"
   ]
  },
  {
   "cell_type": "code",
   "execution_count": 4,
   "id": "07653af7",
   "metadata": {
    "jupyter": {
     "source_hidden": true
    }
   },
   "outputs": [
    {
     "data": {
      "text/html": [
       "<div>\n",
       "<style scoped>\n",
       "    .dataframe tbody tr th:only-of-type {\n",
       "        vertical-align: middle;\n",
       "    }\n",
       "\n",
       "    .dataframe tbody tr th {\n",
       "        vertical-align: top;\n",
       "    }\n",
       "\n",
       "    .dataframe thead th {\n",
       "        text-align: right;\n",
       "    }\n",
       "</style>\n",
       "<table border=\"1\" class=\"dataframe\">\n",
       "  <thead>\n",
       "    <tr style=\"text-align: right;\">\n",
       "      <th></th>\n",
       "      <th>portfolio</th>\n",
       "    </tr>\n",
       "    <tr>\n",
       "      <th>Date</th>\n",
       "      <th></th>\n",
       "    </tr>\n",
       "  </thead>\n",
       "  <tbody>\n",
       "    <tr>\n",
       "      <th>2009-04-30</th>\n",
       "      <td>0.130446</td>\n",
       "    </tr>\n",
       "    <tr>\n",
       "      <th>2009-05-31</th>\n",
       "      <td>0.020928</td>\n",
       "    </tr>\n",
       "    <tr>\n",
       "      <th>2009-06-30</th>\n",
       "      <td>0.002894</td>\n",
       "    </tr>\n",
       "    <tr>\n",
       "      <th>2009-07-31</th>\n",
       "      <td>0.068172</td>\n",
       "    </tr>\n",
       "    <tr>\n",
       "      <th>2009-08-31</th>\n",
       "      <td>0.042209</td>\n",
       "    </tr>\n",
       "    <tr>\n",
       "      <th>...</th>\n",
       "      <td>...</td>\n",
       "    </tr>\n",
       "    <tr>\n",
       "      <th>2023-01-31</th>\n",
       "      <td>0.074556</td>\n",
       "    </tr>\n",
       "    <tr>\n",
       "      <th>2023-02-28</th>\n",
       "      <td>-0.026851</td>\n",
       "    </tr>\n",
       "    <tr>\n",
       "      <th>2023-03-31</th>\n",
       "      <td>-0.006306</td>\n",
       "    </tr>\n",
       "    <tr>\n",
       "      <th>2023-04-30</th>\n",
       "      <td>0.014272</td>\n",
       "    </tr>\n",
       "    <tr>\n",
       "      <th>2023-05-31</th>\n",
       "      <td>-0.021033</td>\n",
       "    </tr>\n",
       "  </tbody>\n",
       "</table>\n",
       "<p>170 rows × 1 columns</p>\n",
       "</div>"
      ],
      "text/plain": [
       "            portfolio\n",
       "Date                 \n",
       "2009-04-30   0.130446\n",
       "2009-05-31   0.020928\n",
       "2009-06-30   0.002894\n",
       "2009-07-31   0.068172\n",
       "2009-08-31   0.042209\n",
       "...               ...\n",
       "2023-01-31   0.074556\n",
       "2023-02-28  -0.026851\n",
       "2023-03-31  -0.006306\n",
       "2023-04-30   0.014272\n",
       "2023-05-31  -0.021033\n",
       "\n",
       "[170 rows x 1 columns]"
      ]
     },
     "execution_count": 4,
     "metadata": {},
     "output_type": "execute_result"
    }
   ],
   "source": [
    "port =  pd.read_excel(\"../data/hw_3_1_data.xlsx\",sheet_name='portfolio returns').set_index('Date')\n",
    "port"
   ]
  },
  {
   "cell_type": "markdown",
   "id": "7f9aa0f5",
   "metadata": {},
   "source": [
    "## <span style='color:red'>1.1</span>"
   ]
  },
  {
   "cell_type": "code",
   "execution_count": 5,
   "id": "f38047b8",
   "metadata": {
    "ExecuteTime": {
     "end_time": "2021-06-24T01:37:08.773349Z",
     "start_time": "2021-06-24T01:37:08.764291Z"
    },
    "jupyter": {
     "source_hidden": true
    }
   },
   "outputs": [
    {
     "data": {
      "text/html": [
       "<table class=\"simpletable\">\n",
       "<caption>OLS Regression Results</caption>\n",
       "<tr>\n",
       "  <th>Dep. Variable:</th>        <td>portfolio</td>    <th>  R-squared:         </th> <td>   0.759</td>\n",
       "</tr>\n",
       "<tr>\n",
       "  <th>Model:</th>                   <td>OLS</td>       <th>  Adj. R-squared:    </th> <td>   0.758</td>\n",
       "</tr>\n",
       "<tr>\n",
       "  <th>Method:</th>             <td>Least Squares</td>  <th>  F-statistic:       </th> <td>   530.3</td>\n",
       "</tr>\n",
       "<tr>\n",
       "  <th>Date:</th>             <td>Mon, 12 Jun 2023</td> <th>  Prob (F-statistic):</th> <td>7.47e-54</td>\n",
       "</tr>\n",
       "<tr>\n",
       "  <th>Time:</th>                 <td>16:49:08</td>     <th>  Log-Likelihood:    </th> <td>  469.82</td>\n",
       "</tr>\n",
       "<tr>\n",
       "  <th>No. Observations:</th>      <td>   170</td>      <th>  AIC:               </th> <td>  -935.6</td>\n",
       "</tr>\n",
       "<tr>\n",
       "  <th>Df Residuals:</th>          <td>   168</td>      <th>  BIC:               </th> <td>  -929.4</td>\n",
       "</tr>\n",
       "<tr>\n",
       "  <th>Df Model:</th>              <td>     1</td>      <th>                     </th>     <td> </td>   \n",
       "</tr>\n",
       "<tr>\n",
       "  <th>Covariance Type:</th>      <td>nonrobust</td>    <th>                     </th>     <td> </td>   \n",
       "</tr>\n",
       "</table>\n",
       "<table class=\"simpletable\">\n",
       "<tr>\n",
       "    <td></td>       <th>coef</th>     <th>std err</th>      <th>t</th>      <th>P>|t|</th>  <th>[0.025</th>    <th>0.975]</th>  \n",
       "</tr>\n",
       "<tr>\n",
       "  <th>const</th> <td>   -0.0013</td> <td>    0.001</td> <td>   -1.090</td> <td> 0.277</td> <td>   -0.004</td> <td>    0.001</td>\n",
       "</tr>\n",
       "<tr>\n",
       "  <th>SPY</th>   <td>    0.6375</td> <td>    0.028</td> <td>   23.029</td> <td> 0.000</td> <td>    0.583</td> <td>    0.692</td>\n",
       "</tr>\n",
       "</table>\n",
       "<table class=\"simpletable\">\n",
       "<tr>\n",
       "  <th>Omnibus:</th>       <td>15.613</td> <th>  Durbin-Watson:     </th> <td>   1.921</td>\n",
       "</tr>\n",
       "<tr>\n",
       "  <th>Prob(Omnibus):</th> <td> 0.000</td> <th>  Jarque-Bera (JB):  </th> <td>  32.219</td>\n",
       "</tr>\n",
       "<tr>\n",
       "  <th>Skew:</th>          <td> 0.390</td> <th>  Prob(JB):          </th> <td>1.01e-07</td>\n",
       "</tr>\n",
       "<tr>\n",
       "  <th>Kurtosis:</th>      <td> 4.985</td> <th>  Cond. No.          </th> <td>    23.5</td>\n",
       "</tr>\n",
       "</table><br/><br/>Notes:<br/>[1] Standard Errors assume that the covariance matrix of the errors is correctly specified."
      ],
      "text/latex": [
       "\\begin{center}\n",
       "\\begin{tabular}{lclc}\n",
       "\\toprule\n",
       "\\textbf{Dep. Variable:}    &    portfolio     & \\textbf{  R-squared:         } &     0.759   \\\\\n",
       "\\textbf{Model:}            &       OLS        & \\textbf{  Adj. R-squared:    } &     0.758   \\\\\n",
       "\\textbf{Method:}           &  Least Squares   & \\textbf{  F-statistic:       } &     530.3   \\\\\n",
       "\\textbf{Date:}             & Mon, 12 Jun 2023 & \\textbf{  Prob (F-statistic):} &  7.47e-54   \\\\\n",
       "\\textbf{Time:}             &     16:49:08     & \\textbf{  Log-Likelihood:    } &    469.82   \\\\\n",
       "\\textbf{No. Observations:} &         170      & \\textbf{  AIC:               } &    -935.6   \\\\\n",
       "\\textbf{Df Residuals:}     &         168      & \\textbf{  BIC:               } &    -929.4   \\\\\n",
       "\\textbf{Df Model:}         &           1      & \\textbf{                     } &             \\\\\n",
       "\\textbf{Covariance Type:}  &    nonrobust     & \\textbf{                     } &             \\\\\n",
       "\\bottomrule\n",
       "\\end{tabular}\n",
       "\\begin{tabular}{lcccccc}\n",
       "               & \\textbf{coef} & \\textbf{std err} & \\textbf{t} & \\textbf{P$> |$t$|$} & \\textbf{[0.025} & \\textbf{0.975]}  \\\\\n",
       "\\midrule\n",
       "\\textbf{const} &      -0.0013  &        0.001     &    -1.090  &         0.277        &       -0.004    &        0.001     \\\\\n",
       "\\textbf{SPY}   &       0.6375  &        0.028     &    23.029  &         0.000        &        0.583    &        0.692     \\\\\n",
       "\\bottomrule\n",
       "\\end{tabular}\n",
       "\\begin{tabular}{lclc}\n",
       "\\textbf{Omnibus:}       & 15.613 & \\textbf{  Durbin-Watson:     } &    1.921  \\\\\n",
       "\\textbf{Prob(Omnibus):} &  0.000 & \\textbf{  Jarque-Bera (JB):  } &   32.219  \\\\\n",
       "\\textbf{Skew:}          &  0.390 & \\textbf{  Prob(JB):          } & 1.01e-07  \\\\\n",
       "\\textbf{Kurtosis:}      &  4.985 & \\textbf{  Cond. No.          } &     23.5  \\\\\n",
       "\\bottomrule\n",
       "\\end{tabular}\n",
       "%\\caption{OLS Regression Results}\n",
       "\\end{center}\n",
       "\n",
       "Notes: \\newline\n",
       " [1] Standard Errors assume that the covariance matrix of the errors is correctly specified."
      ],
      "text/plain": [
       "<class 'statsmodels.iolib.summary.Summary'>\n",
       "\"\"\"\n",
       "                            OLS Regression Results                            \n",
       "==============================================================================\n",
       "Dep. Variable:              portfolio   R-squared:                       0.759\n",
       "Model:                            OLS   Adj. R-squared:                  0.758\n",
       "Method:                 Least Squares   F-statistic:                     530.3\n",
       "Date:                Mon, 12 Jun 2023   Prob (F-statistic):           7.47e-54\n",
       "Time:                        16:49:08   Log-Likelihood:                 469.82\n",
       "No. Observations:                 170   AIC:                            -935.6\n",
       "Df Residuals:                     168   BIC:                            -929.4\n",
       "Df Model:                           1                                         \n",
       "Covariance Type:            nonrobust                                         \n",
       "==============================================================================\n",
       "                 coef    std err          t      P>|t|      [0.025      0.975]\n",
       "------------------------------------------------------------------------------\n",
       "const         -0.0013      0.001     -1.090      0.277      -0.004       0.001\n",
       "SPY            0.6375      0.028     23.029      0.000       0.583       0.692\n",
       "==============================================================================\n",
       "Omnibus:                       15.613   Durbin-Watson:                   1.921\n",
       "Prob(Omnibus):                  0.000   Jarque-Bera (JB):               32.219\n",
       "Skew:                           0.390   Prob(JB):                     1.01e-07\n",
       "Kurtosis:                       4.985   Cond. No.                         23.5\n",
       "==============================================================================\n",
       "\n",
       "Notes:\n",
       "[1] Standard Errors assume that the covariance matrix of the errors is correctly specified.\n",
       "\"\"\""
      ]
     },
     "execution_count": 5,
     "metadata": {},
     "output_type": "execute_result"
    }
   ],
   "source": [
    "X = sm.add_constant(rets['SPY'])\n",
    "y = port\n",
    "mod = sm.OLS(y, X).fit()\n",
    "mod.summary()"
   ]
  },
  {
   "cell_type": "markdown",
   "id": "6066272e",
   "metadata": {},
   "source": [
    "## <span style='color:red'>1.2</span>"
   ]
  },
  {
   "cell_type": "code",
   "execution_count": 6,
   "id": "67ba4840",
   "metadata": {
    "ExecuteTime": {
     "end_time": "2021-06-24T01:37:08.784226Z",
     "start_time": "2021-06-24T01:37:08.775144Z"
    },
    "jupyter": {
     "source_hidden": true
    }
   },
   "outputs": [
    {
     "data": {
      "text/html": [
       "<table class=\"simpletable\">\n",
       "<caption>OLS Regression Results</caption>\n",
       "<tr>\n",
       "  <th>Dep. Variable:</th>        <td>portfolio</td>    <th>  R-squared:         </th> <td>   0.837</td>\n",
       "</tr>\n",
       "<tr>\n",
       "  <th>Model:</th>                   <td>OLS</td>       <th>  Adj. R-squared:    </th> <td>   0.835</td>\n",
       "</tr>\n",
       "<tr>\n",
       "  <th>Method:</th>             <td>Least Squares</td>  <th>  F-statistic:       </th> <td>   427.6</td>\n",
       "</tr>\n",
       "<tr>\n",
       "  <th>Date:</th>             <td>Mon, 12 Jun 2023</td> <th>  Prob (F-statistic):</th> <td>1.99e-66</td>\n",
       "</tr>\n",
       "<tr>\n",
       "  <th>Time:</th>                 <td>16:49:08</td>     <th>  Log-Likelihood:    </th> <td>  502.72</td>\n",
       "</tr>\n",
       "<tr>\n",
       "  <th>No. Observations:</th>      <td>   170</td>      <th>  AIC:               </th> <td>  -999.4</td>\n",
       "</tr>\n",
       "<tr>\n",
       "  <th>Df Residuals:</th>          <td>   167</td>      <th>  BIC:               </th> <td>  -990.0</td>\n",
       "</tr>\n",
       "<tr>\n",
       "  <th>Df Model:</th>              <td>     2</td>      <th>                     </th>     <td> </td>   \n",
       "</tr>\n",
       "<tr>\n",
       "  <th>Covariance Type:</th>      <td>nonrobust</td>    <th>                     </th>     <td> </td>   \n",
       "</tr>\n",
       "</table>\n",
       "<table class=\"simpletable\">\n",
       "<tr>\n",
       "    <td></td>       <th>coef</th>     <th>std err</th>      <th>t</th>      <th>P>|t|</th>  <th>[0.025</th>    <th>0.975]</th>  \n",
       "</tr>\n",
       "<tr>\n",
       "  <th>const</th> <td>   -0.0014</td> <td>    0.001</td> <td>   -1.378</td> <td> 0.170</td> <td>   -0.003</td> <td>    0.001</td>\n",
       "</tr>\n",
       "<tr>\n",
       "  <th>SPY</th>   <td>    0.3922</td> <td>    0.036</td> <td>   10.939</td> <td> 0.000</td> <td>    0.321</td> <td>    0.463</td>\n",
       "</tr>\n",
       "<tr>\n",
       "  <th>HYG</th>   <td>    0.5253</td> <td>    0.059</td> <td>    8.884</td> <td> 0.000</td> <td>    0.409</td> <td>    0.642</td>\n",
       "</tr>\n",
       "</table>\n",
       "<table class=\"simpletable\">\n",
       "<tr>\n",
       "  <th>Omnibus:</th>       <td> 0.606</td> <th>  Durbin-Watson:     </th> <td>   2.217</td>\n",
       "</tr>\n",
       "<tr>\n",
       "  <th>Prob(Omnibus):</th> <td> 0.739</td> <th>  Jarque-Bera (JB):  </th> <td>   0.509</td>\n",
       "</tr>\n",
       "<tr>\n",
       "  <th>Skew:</th>          <td> 0.134</td> <th>  Prob(JB):          </th> <td>   0.775</td>\n",
       "</tr>\n",
       "<tr>\n",
       "  <th>Kurtosis:</th>      <td> 2.995</td> <th>  Cond. No.          </th> <td>    67.9</td>\n",
       "</tr>\n",
       "</table><br/><br/>Notes:<br/>[1] Standard Errors assume that the covariance matrix of the errors is correctly specified."
      ],
      "text/latex": [
       "\\begin{center}\n",
       "\\begin{tabular}{lclc}\n",
       "\\toprule\n",
       "\\textbf{Dep. Variable:}    &    portfolio     & \\textbf{  R-squared:         } &     0.837   \\\\\n",
       "\\textbf{Model:}            &       OLS        & \\textbf{  Adj. R-squared:    } &     0.835   \\\\\n",
       "\\textbf{Method:}           &  Least Squares   & \\textbf{  F-statistic:       } &     427.6   \\\\\n",
       "\\textbf{Date:}             & Mon, 12 Jun 2023 & \\textbf{  Prob (F-statistic):} &  1.99e-66   \\\\\n",
       "\\textbf{Time:}             &     16:49:08     & \\textbf{  Log-Likelihood:    } &    502.72   \\\\\n",
       "\\textbf{No. Observations:} &         170      & \\textbf{  AIC:               } &    -999.4   \\\\\n",
       "\\textbf{Df Residuals:}     &         167      & \\textbf{  BIC:               } &    -990.0   \\\\\n",
       "\\textbf{Df Model:}         &           2      & \\textbf{                     } &             \\\\\n",
       "\\textbf{Covariance Type:}  &    nonrobust     & \\textbf{                     } &             \\\\\n",
       "\\bottomrule\n",
       "\\end{tabular}\n",
       "\\begin{tabular}{lcccccc}\n",
       "               & \\textbf{coef} & \\textbf{std err} & \\textbf{t} & \\textbf{P$> |$t$|$} & \\textbf{[0.025} & \\textbf{0.975]}  \\\\\n",
       "\\midrule\n",
       "\\textbf{const} &      -0.0014  &        0.001     &    -1.378  &         0.170        &       -0.003    &        0.001     \\\\\n",
       "\\textbf{SPY}   &       0.3922  &        0.036     &    10.939  &         0.000        &        0.321    &        0.463     \\\\\n",
       "\\textbf{HYG}   &       0.5253  &        0.059     &     8.884  &         0.000        &        0.409    &        0.642     \\\\\n",
       "\\bottomrule\n",
       "\\end{tabular}\n",
       "\\begin{tabular}{lclc}\n",
       "\\textbf{Omnibus:}       &  0.606 & \\textbf{  Durbin-Watson:     } &    2.217  \\\\\n",
       "\\textbf{Prob(Omnibus):} &  0.739 & \\textbf{  Jarque-Bera (JB):  } &    0.509  \\\\\n",
       "\\textbf{Skew:}          &  0.134 & \\textbf{  Prob(JB):          } &    0.775  \\\\\n",
       "\\textbf{Kurtosis:}      &  2.995 & \\textbf{  Cond. No.          } &     67.9  \\\\\n",
       "\\bottomrule\n",
       "\\end{tabular}\n",
       "%\\caption{OLS Regression Results}\n",
       "\\end{center}\n",
       "\n",
       "Notes: \\newline\n",
       " [1] Standard Errors assume that the covariance matrix of the errors is correctly specified."
      ],
      "text/plain": [
       "<class 'statsmodels.iolib.summary.Summary'>\n",
       "\"\"\"\n",
       "                            OLS Regression Results                            \n",
       "==============================================================================\n",
       "Dep. Variable:              portfolio   R-squared:                       0.837\n",
       "Model:                            OLS   Adj. R-squared:                  0.835\n",
       "Method:                 Least Squares   F-statistic:                     427.6\n",
       "Date:                Mon, 12 Jun 2023   Prob (F-statistic):           1.99e-66\n",
       "Time:                        16:49:08   Log-Likelihood:                 502.72\n",
       "No. Observations:                 170   AIC:                            -999.4\n",
       "Df Residuals:                     167   BIC:                            -990.0\n",
       "Df Model:                           2                                         \n",
       "Covariance Type:            nonrobust                                         \n",
       "==============================================================================\n",
       "                 coef    std err          t      P>|t|      [0.025      0.975]\n",
       "------------------------------------------------------------------------------\n",
       "const         -0.0014      0.001     -1.378      0.170      -0.003       0.001\n",
       "SPY            0.3922      0.036     10.939      0.000       0.321       0.463\n",
       "HYG            0.5253      0.059      8.884      0.000       0.409       0.642\n",
       "==============================================================================\n",
       "Omnibus:                        0.606   Durbin-Watson:                   2.217\n",
       "Prob(Omnibus):                  0.739   Jarque-Bera (JB):                0.509\n",
       "Skew:                           0.134   Prob(JB):                        0.775\n",
       "Kurtosis:                       2.995   Cond. No.                         67.9\n",
       "==============================================================================\n",
       "\n",
       "Notes:\n",
       "[1] Standard Errors assume that the covariance matrix of the errors is correctly specified.\n",
       "\"\"\""
      ]
     },
     "execution_count": 6,
     "metadata": {},
     "output_type": "execute_result"
    }
   ],
   "source": [
    "X = sm.add_constant(rets[['SPY', 'HYG']])\n",
    "y = port\n",
    "mod_multi = sm.OLS(y, X).fit()\n",
    "mod_multi.summary()"
   ]
  },
  {
   "cell_type": "markdown",
   "id": "3ebc65a6",
   "metadata": {},
   "source": [
    "Notice that the beta on SPY is much lower now that we include CL1. Also note that the R-squared is much higher."
   ]
  },
  {
   "cell_type": "markdown",
   "id": "17c05202",
   "metadata": {},
   "source": [
    "## <span style='color:red'>1.3</span>"
   ]
  },
  {
   "cell_type": "markdown",
   "id": "a51059f6",
   "metadata": {},
   "source": [
    "The squared correlation is exactly the R^2, as R^2 captures the correlation of Portfolio's return and the combined space spanned by both regressors."
   ]
  },
  {
   "cell_type": "code",
   "execution_count": 7,
   "id": "0ecdae84",
   "metadata": {
    "ExecuteTime": {
     "end_time": "2021-06-24T01:37:08.788236Z",
     "start_time": "2021-06-24T01:37:08.784889Z"
    },
    "jupyter": {
     "source_hidden": true
    }
   },
   "outputs": [
    {
     "name": "stdout",
     "output_type": "stream",
     "text": [
      "Correlation between portfolio and replication: 91.47%.\n",
      "Square of this correaltion is 83.66%\n",
      "which equals the R-squared.\n"
     ]
    }
   ],
   "source": [
    "corr_port = port.corrwith(mod.fittedvalues)[0]\n",
    "corr_port_multi = port.corrwith(mod_multi.fittedvalues)[0]\n",
    "print(f'Correlation between portfolio and replication: {corr_port_multi:.2%}.')\n",
    "print(f'Square of this correaltion is {corr_port_multi**2:.2%}\\nwhich equals the R-squared.')"
   ]
  },
  {
   "cell_type": "markdown",
   "id": "75bff20e",
   "metadata": {},
   "source": [
    "## <span style='color:red'>1.4</span>"
   ]
  },
  {
   "cell_type": "code",
   "execution_count": 8,
   "id": "a8e99782",
   "metadata": {
    "ExecuteTime": {
     "end_time": "2021-06-24T01:37:08.791609Z",
     "start_time": "2021-06-24T01:37:08.789012Z"
    },
    "jupyter": {
     "source_hidden": true
    }
   },
   "outputs": [
    {
     "name": "stdout",
     "output_type": "stream",
     "text": [
      "Correlation between SPY and HYG is 77.0%\n"
     ]
    }
   ],
   "source": [
    "TICKreg1 = 'SPY'\n",
    "TICKreg2 = 'HYG'\n",
    "corrREGS = rets[TICKreg2].corr(rets[TICKreg1])\n",
    "print(f'Correlation between {TICKreg1} and {TICKreg2} is {corrREGS:.1%}')"
   ]
  },
  {
   "cell_type": "markdown",
   "id": "521c8c3f",
   "metadata": {},
   "source": [
    "The beta for SPY in (2) is much smaller than in (1). This is because HYG and SPY are significantly correlated, therefore a large proportion of the variation in the Portfolio return which was being attributed to SPY (in eq 1) was actually better explained by HYG. Thus, in eq (2) this gets attributed more directly to HYG, and less is attributed to SPY."
   ]
  },
  {
   "cell_type": "markdown",
   "id": "496aa5a8",
   "metadata": {},
   "source": [
    "## <span style='color:red'>1.5</span>"
   ]
  },
  {
   "cell_type": "markdown",
   "id": "8ca8bf0d",
   "metadata": {},
   "source": [
    "Without doing calculation, the intuition is that the second regression includes HYG as a regressor. Sample residuals are always uncorrelated (in-sample) to the regressors. Thus, in this regression we know the sample residual will have zero correlation to HYG. In the first regression, HYG was not a regressor, so it may have substantial correlation to the sample residual.\n",
    "\n",
    "For population residuals, $\\epsilon$, we still expect much smaller correlation to HYG in the second regression, though this population residual may still have some correlation to HYG."
   ]
  },
  {
   "cell_type": "code",
   "execution_count": 9,
   "id": "bbd72fda",
   "metadata": {
    "ExecuteTime": {
     "end_time": "2021-06-24T01:37:08.794778Z",
     "start_time": "2021-06-24T01:37:08.792287Z"
    },
    "jupyter": {
     "source_hidden": true
    }
   },
   "outputs": [
    {
     "name": "stdout",
     "output_type": "stream",
     "text": [
      "Correlation between HYG and the sample residual:\n",
      "Univariate = SPY: 36.15%\n",
      "Multivariate = SPY and HYG: -0.00%\n"
     ]
    }
   ],
   "source": [
    "print(f'Correlation between {TICKreg2} and the sample residual:\\nUnivariate = {TICKreg1}: {rets[TICKreg2].corr(mod.resid):.2%}')\n",
    "print(f'Multivariate = {TICKreg1} and {TICKreg2}: {rets[TICKreg2].corr(mod_multi.resid):.2%}')"
   ]
  },
  {
   "cell_type": "markdown",
   "id": "9218dd8d",
   "metadata": {},
   "source": [
    "***"
   ]
  },
  {
   "cell_type": "markdown",
   "id": "6f523d10",
   "metadata": {},
   "source": [
    "# 2. Decomposing and Replicating"
   ]
  },
  {
   "cell_type": "markdown",
   "id": "8588ea56",
   "metadata": {},
   "source": [
    "## 1.\n",
    "The portfolio return, $r_t^p$, is a combination of the base assets that are provided here. Use linear regression to uncover which weights were used in constructing the portfolio.\n",
    "\n",
    "$$r_t^p = \\alpha +\\left(\\boldsymbol{\\beta}\\right)' \\boldsymbol{r}_t + \\epsilon_t$$\n",
    "\n",
    "where $\\boldsymbol{r}$ denotes the vector of returns for the individual securities.\n",
    "* What does the regression find were the original weights?\n",
    "* How precise is the estimation? Consider the R-squared and t-stats.\n",
    "\n",
    "*Feel free to include an $\\alpha$ in this model, even though you know the portfolio is an exact function of the individual securities. The estimation should find $\\alpha$ of (nearly) zero.*\n",
    "\n",
    "\n",
    "## 2.\n",
    "\n",
    "$$\\newcommand{\\targ}{EEM}$$\n",
    "\n",
    "Suppose that we want to mimic a return, **EEM** using the other returns. Run the following regression–but\n",
    "do so **only using data through the end of 2020.**\n",
    "\n",
    "$$r_t^{\\targ} = \\alpha +\\left(\\boldsymbol{\\beta}^{\\boldsymbol{r}}\\right)' \\boldsymbol{r}_t + \\epsilon_t$$\n",
    "\n",
    "where $\\boldsymbol{r}$ denotes the vector of returns for the other securities, excluding the target, **EEM**.\n",
    "\n",
    "#### (a) \n",
    "Report the r-squared and the estimate of the vector, $\\boldsymbol{\\beta}$.\n",
    "\n",
    "#### (b) \n",
    "Report the t-stats of the explanatory returns. Which have absolute value greater than 2?\n",
    "\n",
    "#### (c) \n",
    "Plot the returns of **EEM** along with the replication values.\n",
    "\n",
    "## 3.\n",
    "Perhaps the replication results in the previous problem are overstated given that they estimated the parameters within a sample and then evaluated how well the result fit in the same sample. This is known as in-sample fit.\n",
    "\n",
    "Using the estimates through **2020**, (the α and βˆ from the previous problem,) calculate the out-of-sample (OOS) values of the replication, using the **2021-2023** returns, denoted $\\boldsymbol{r}_t^{\\text{oos}}$:\n",
    "\n",
    "$$\\hat{r}_t^{\\targ} = \\left(\\widehat{\\boldsymbol{\\beta}}^{\\boldsymbol{r}}\\right)' \\boldsymbol{r}_t^{\\text{oos}}$$\n",
    "\n",
    "#### (a) \n",
    "What is the correlation between $\\hat{r}_t^{\\targ}$ and $\\boldsymbol{r}_t^{\\text{oos}}$?\n",
    "\n",
    "#### (b) \n",
    "How does this compare to the r-squared from the regression above based on in-sample data, (through 2020?)"
   ]
  },
  {
   "cell_type": "markdown",
   "id": "9546d710",
   "metadata": {},
   "source": [
    "***"
   ]
  },
  {
   "cell_type": "markdown",
   "id": "f2d2b1cd",
   "metadata": {},
   "source": [
    "# <span style='color:red'>Solution 2</span>"
   ]
  },
  {
   "cell_type": "markdown",
   "id": "6dc043a0",
   "metadata": {},
   "source": [
    "## <span style='color:red'>2.1</span>"
   ]
  },
  {
   "cell_type": "code",
   "execution_count": 10,
   "id": "61a8e6bf",
   "metadata": {
    "ExecuteTime": {
     "end_time": "2021-06-24T01:37:08.805042Z",
     "start_time": "2021-06-24T01:37:08.800384Z"
    },
    "jupyter": {
     "source_hidden": true
    }
   },
   "outputs": [
    {
     "data": {
      "text/html": [
       "<style type=\"text/css\">\n",
       "</style>\n",
       "<table id=\"T_d2c05\">\n",
       "  <thead>\n",
       "    <tr>\n",
       "      <th class=\"blank level0\" >&nbsp;</th>\n",
       "      <th id=\"T_d2c05_level0_col0\" class=\"col_heading level0 col0\" >IEF</th>\n",
       "      <th id=\"T_d2c05_level0_col1\" class=\"col_heading level0 col1\" >QAI</th>\n",
       "      <th id=\"T_d2c05_level0_col2\" class=\"col_heading level0 col2\" >IYR</th>\n",
       "      <th id=\"T_d2c05_level0_col3\" class=\"col_heading level0 col3\" >PSP</th>\n",
       "      <th id=\"T_d2c05_level0_col4\" class=\"col_heading level0 col4\" >SHV</th>\n",
       "      <th id=\"T_d2c05_level0_col5\" class=\"col_heading level0 col5\" >const</th>\n",
       "      <th id=\"T_d2c05_level0_col6\" class=\"col_heading level0 col6\" >TIP</th>\n",
       "      <th id=\"T_d2c05_level0_col7\" class=\"col_heading level0 col7\" >BWX</th>\n",
       "      <th id=\"T_d2c05_level0_col8\" class=\"col_heading level0 col8\" >EFA</th>\n",
       "      <th id=\"T_d2c05_level0_col9\" class=\"col_heading level0 col9\" >DBC</th>\n",
       "      <th id=\"T_d2c05_level0_col10\" class=\"col_heading level0 col10\" >HYG</th>\n",
       "      <th id=\"T_d2c05_level0_col11\" class=\"col_heading level0 col11\" >SPY</th>\n",
       "      <th id=\"T_d2c05_level0_col12\" class=\"col_heading level0 col12\" >EEM</th>\n",
       "    </tr>\n",
       "  </thead>\n",
       "  <tbody>\n",
       "    <tr>\n",
       "      <th id=\"T_d2c05_level0_row0\" class=\"row_heading level0 row0\" >weights</th>\n",
       "      <td id=\"T_d2c05_row0_col0\" class=\"data row0 col0\" >0.25</td>\n",
       "      <td id=\"T_d2c05_row0_col1\" class=\"data row0 col1\" >0.25</td>\n",
       "      <td id=\"T_d2c05_row0_col2\" class=\"data row0 col2\" >0.25</td>\n",
       "      <td id=\"T_d2c05_row0_col3\" class=\"data row0 col3\" >0.25</td>\n",
       "      <td id=\"T_d2c05_row0_col4\" class=\"data row0 col4\" >0.00</td>\n",
       "      <td id=\"T_d2c05_row0_col5\" class=\"data row0 col5\" >0.00</td>\n",
       "      <td id=\"T_d2c05_row0_col6\" class=\"data row0 col6\" >-0.00</td>\n",
       "      <td id=\"T_d2c05_row0_col7\" class=\"data row0 col7\" >-0.00</td>\n",
       "      <td id=\"T_d2c05_row0_col8\" class=\"data row0 col8\" >-0.00</td>\n",
       "      <td id=\"T_d2c05_row0_col9\" class=\"data row0 col9\" >-0.00</td>\n",
       "      <td id=\"T_d2c05_row0_col10\" class=\"data row0 col10\" >-0.00</td>\n",
       "      <td id=\"T_d2c05_row0_col11\" class=\"data row0 col11\" >-0.00</td>\n",
       "      <td id=\"T_d2c05_row0_col12\" class=\"data row0 col12\" >-0.00</td>\n",
       "    </tr>\n",
       "  </tbody>\n",
       "</table>\n"
      ],
      "text/plain": [
       "<pandas.io.formats.style.Styler at 0x1506b31c0>"
      ]
     },
     "metadata": {},
     "output_type": "display_data"
    },
    {
     "data": {
      "text/html": [
       "<table class=\"simpletable\">\n",
       "<caption>OLS Regression Results</caption>\n",
       "<tr>\n",
       "  <th>Dep. Variable:</th>        <td>portfolio</td>    <th>  R-squared:         </th>  <td>   1.000</td> \n",
       "</tr>\n",
       "<tr>\n",
       "  <th>Model:</th>                   <td>OLS</td>       <th>  Adj. R-squared:    </th>  <td>   1.000</td> \n",
       "</tr>\n",
       "<tr>\n",
       "  <th>Method:</th>             <td>Least Squares</td>  <th>  F-statistic:       </th>  <td>4.509e+28</td>\n",
       "</tr>\n",
       "<tr>\n",
       "  <th>Date:</th>             <td>Mon, 12 Jun 2023</td> <th>  Prob (F-statistic):</th>   <td>  0.00</td>  \n",
       "</tr>\n",
       "<tr>\n",
       "  <th>Time:</th>                 <td>16:49:08</td>     <th>  Log-Likelihood:    </th>  <td>  5738.3</td> \n",
       "</tr>\n",
       "<tr>\n",
       "  <th>No. Observations:</th>      <td>   170</td>      <th>  AIC:               </th> <td>-1.145e+04</td>\n",
       "</tr>\n",
       "<tr>\n",
       "  <th>Df Residuals:</th>          <td>   157</td>      <th>  BIC:               </th> <td>-1.141e+04</td>\n",
       "</tr>\n",
       "<tr>\n",
       "  <th>Df Model:</th>              <td>    12</td>      <th>                     </th>      <td> </td>    \n",
       "</tr>\n",
       "<tr>\n",
       "  <th>Covariance Type:</th>      <td>nonrobust</td>    <th>                     </th>      <td> </td>    \n",
       "</tr>\n",
       "</table>\n",
       "<table class=\"simpletable\">\n",
       "<tr>\n",
       "    <td></td>       <th>coef</th>     <th>std err</th>      <th>t</th>      <th>P>|t|</th>  <th>[0.025</th>    <th>0.975]</th>  \n",
       "</tr>\n",
       "<tr>\n",
       "  <th>const</th> <td> 5.331e-16</td> <td> 5.34e-17</td> <td>    9.991</td> <td> 0.000</td> <td> 4.28e-16</td> <td> 6.39e-16</td>\n",
       "</tr>\n",
       "<tr>\n",
       "  <th>SPY</th>   <td>  -4.9e-16</td> <td> 2.78e-15</td> <td>   -0.176</td> <td> 0.860</td> <td>-5.98e-15</td> <td>    5e-15</td>\n",
       "</tr>\n",
       "<tr>\n",
       "  <th>EFA</th>   <td>-3.058e-16</td> <td> 2.84e-15</td> <td>   -0.108</td> <td> 0.914</td> <td>-5.92e-15</td> <td> 5.31e-15</td>\n",
       "</tr>\n",
       "<tr>\n",
       "  <th>EEM</th>   <td> -6.96e-16</td> <td> 1.63e-15</td> <td>   -0.428</td> <td> 0.669</td> <td>-3.91e-15</td> <td> 2.51e-15</td>\n",
       "</tr>\n",
       "<tr>\n",
       "  <th>PSP</th>   <td>    0.2500</td> <td> 2.07e-15</td> <td> 1.21e+14</td> <td> 0.000</td> <td>    0.250</td> <td>    0.250</td>\n",
       "</tr>\n",
       "<tr>\n",
       "  <th>QAI</th>   <td>    0.2500</td> <td> 7.55e-15</td> <td> 3.31e+13</td> <td> 0.000</td> <td>    0.250</td> <td>    0.250</td>\n",
       "</tr>\n",
       "<tr>\n",
       "  <th>HYG</th>   <td>-4.626e-16</td> <td> 3.29e-15</td> <td>   -0.140</td> <td> 0.888</td> <td>-6.97e-15</td> <td> 6.04e-15</td>\n",
       "</tr>\n",
       "<tr>\n",
       "  <th>DBC</th>   <td>-3.406e-16</td> <td> 1.22e-15</td> <td>   -0.280</td> <td> 0.780</td> <td>-2.75e-15</td> <td> 2.06e-15</td>\n",
       "</tr>\n",
       "<tr>\n",
       "  <th>IYR</th>   <td>    0.2500</td> <td> 1.44e-15</td> <td> 1.74e+14</td> <td> 0.000</td> <td>    0.250</td> <td>    0.250</td>\n",
       "</tr>\n",
       "<tr>\n",
       "  <th>IEF</th>   <td>    0.2500</td> <td> 5.15e-15</td> <td> 4.86e+13</td> <td> 0.000</td> <td>    0.250</td> <td>    0.250</td>\n",
       "</tr>\n",
       "<tr>\n",
       "  <th>BWX</th>   <td>-2.026e-16</td> <td> 3.45e-15</td> <td>   -0.059</td> <td> 0.953</td> <td>-7.02e-15</td> <td> 6.62e-15</td>\n",
       "</tr>\n",
       "<tr>\n",
       "  <th>TIP</th>   <td>-6.563e-18</td> <td> 5.44e-15</td> <td>   -0.001</td> <td> 0.999</td> <td>-1.08e-14</td> <td> 1.07e-14</td>\n",
       "</tr>\n",
       "<tr>\n",
       "  <th>SHV</th>   <td>  1.96e-15</td> <td> 4.64e-14</td> <td>    0.042</td> <td> 0.966</td> <td>-8.96e-14</td> <td> 9.35e-14</td>\n",
       "</tr>\n",
       "</table>\n",
       "<table class=\"simpletable\">\n",
       "<tr>\n",
       "  <th>Omnibus:</th>       <td>15.142</td> <th>  Durbin-Watson:     </th> <td>   0.183</td>\n",
       "</tr>\n",
       "<tr>\n",
       "  <th>Prob(Omnibus):</th> <td> 0.001</td> <th>  Jarque-Bera (JB):  </th> <td>  34.008</td>\n",
       "</tr>\n",
       "<tr>\n",
       "  <th>Skew:</th>          <td>-0.335</td> <th>  Prob(JB):          </th> <td>4.12e-08</td>\n",
       "</tr>\n",
       "<tr>\n",
       "  <th>Kurtosis:</th>      <td> 5.086</td> <th>  Cond. No.          </th> <td>1.10e+03</td>\n",
       "</tr>\n",
       "</table><br/><br/>Notes:<br/>[1] Standard Errors assume that the covariance matrix of the errors is correctly specified.<br/>[2] The condition number is large, 1.1e+03. This might indicate that there are<br/>strong multicollinearity or other numerical problems."
      ],
      "text/latex": [
       "\\begin{center}\n",
       "\\begin{tabular}{lclc}\n",
       "\\toprule\n",
       "\\textbf{Dep. Variable:}    &    portfolio     & \\textbf{  R-squared:         } &     1.000   \\\\\n",
       "\\textbf{Model:}            &       OLS        & \\textbf{  Adj. R-squared:    } &     1.000   \\\\\n",
       "\\textbf{Method:}           &  Least Squares   & \\textbf{  F-statistic:       } & 4.509e+28   \\\\\n",
       "\\textbf{Date:}             & Mon, 12 Jun 2023 & \\textbf{  Prob (F-statistic):} &     0.00    \\\\\n",
       "\\textbf{Time:}             &     16:49:08     & \\textbf{  Log-Likelihood:    } &    5738.3   \\\\\n",
       "\\textbf{No. Observations:} &         170      & \\textbf{  AIC:               } & -1.145e+04  \\\\\n",
       "\\textbf{Df Residuals:}     &         157      & \\textbf{  BIC:               } & -1.141e+04  \\\\\n",
       "\\textbf{Df Model:}         &          12      & \\textbf{                     } &             \\\\\n",
       "\\textbf{Covariance Type:}  &    nonrobust     & \\textbf{                     } &             \\\\\n",
       "\\bottomrule\n",
       "\\end{tabular}\n",
       "\\begin{tabular}{lcccccc}\n",
       "               & \\textbf{coef} & \\textbf{std err} & \\textbf{t} & \\textbf{P$> |$t$|$} & \\textbf{[0.025} & \\textbf{0.975]}  \\\\\n",
       "\\midrule\n",
       "\\textbf{const} &    5.331e-16  &     5.34e-17     &     9.991  &         0.000        &     4.28e-16    &     6.39e-16     \\\\\n",
       "\\textbf{SPY}   &     -4.9e-16  &     2.78e-15     &    -0.176  &         0.860        &    -5.98e-15    &        5e-15     \\\\\n",
       "\\textbf{EFA}   &   -3.058e-16  &     2.84e-15     &    -0.108  &         0.914        &    -5.92e-15    &     5.31e-15     \\\\\n",
       "\\textbf{EEM}   &    -6.96e-16  &     1.63e-15     &    -0.428  &         0.669        &    -3.91e-15    &     2.51e-15     \\\\\n",
       "\\textbf{PSP}   &       0.2500  &     2.07e-15     &  1.21e+14  &         0.000        &        0.250    &        0.250     \\\\\n",
       "\\textbf{QAI}   &       0.2500  &     7.55e-15     &  3.31e+13  &         0.000        &        0.250    &        0.250     \\\\\n",
       "\\textbf{HYG}   &   -4.626e-16  &     3.29e-15     &    -0.140  &         0.888        &    -6.97e-15    &     6.04e-15     \\\\\n",
       "\\textbf{DBC}   &   -3.406e-16  &     1.22e-15     &    -0.280  &         0.780        &    -2.75e-15    &     2.06e-15     \\\\\n",
       "\\textbf{IYR}   &       0.2500  &     1.44e-15     &  1.74e+14  &         0.000        &        0.250    &        0.250     \\\\\n",
       "\\textbf{IEF}   &       0.2500  &     5.15e-15     &  4.86e+13  &         0.000        &        0.250    &        0.250     \\\\\n",
       "\\textbf{BWX}   &   -2.026e-16  &     3.45e-15     &    -0.059  &         0.953        &    -7.02e-15    &     6.62e-15     \\\\\n",
       "\\textbf{TIP}   &   -6.563e-18  &     5.44e-15     &    -0.001  &         0.999        &    -1.08e-14    &     1.07e-14     \\\\\n",
       "\\textbf{SHV}   &     1.96e-15  &     4.64e-14     &     0.042  &         0.966        &    -8.96e-14    &     9.35e-14     \\\\\n",
       "\\bottomrule\n",
       "\\end{tabular}\n",
       "\\begin{tabular}{lclc}\n",
       "\\textbf{Omnibus:}       & 15.142 & \\textbf{  Durbin-Watson:     } &    0.183  \\\\\n",
       "\\textbf{Prob(Omnibus):} &  0.001 & \\textbf{  Jarque-Bera (JB):  } &   34.008  \\\\\n",
       "\\textbf{Skew:}          & -0.335 & \\textbf{  Prob(JB):          } & 4.12e-08  \\\\\n",
       "\\textbf{Kurtosis:}      &  5.086 & \\textbf{  Cond. No.          } & 1.10e+03  \\\\\n",
       "\\bottomrule\n",
       "\\end{tabular}\n",
       "%\\caption{OLS Regression Results}\n",
       "\\end{center}\n",
       "\n",
       "Notes: \\newline\n",
       " [1] Standard Errors assume that the covariance matrix of the errors is correctly specified. \\newline\n",
       " [2] The condition number is large, 1.1e+03. This might indicate that there are \\newline\n",
       " strong multicollinearity or other numerical problems."
      ],
      "text/plain": [
       "<class 'statsmodels.iolib.summary.Summary'>\n",
       "\"\"\"\n",
       "                            OLS Regression Results                            \n",
       "==============================================================================\n",
       "Dep. Variable:              portfolio   R-squared:                       1.000\n",
       "Model:                            OLS   Adj. R-squared:                  1.000\n",
       "Method:                 Least Squares   F-statistic:                 4.509e+28\n",
       "Date:                Mon, 12 Jun 2023   Prob (F-statistic):               0.00\n",
       "Time:                        16:49:08   Log-Likelihood:                 5738.3\n",
       "No. Observations:                 170   AIC:                        -1.145e+04\n",
       "Df Residuals:                     157   BIC:                        -1.141e+04\n",
       "Df Model:                          12                                         \n",
       "Covariance Type:            nonrobust                                         \n",
       "==============================================================================\n",
       "                 coef    std err          t      P>|t|      [0.025      0.975]\n",
       "------------------------------------------------------------------------------\n",
       "const       5.331e-16   5.34e-17      9.991      0.000    4.28e-16    6.39e-16\n",
       "SPY          -4.9e-16   2.78e-15     -0.176      0.860   -5.98e-15       5e-15\n",
       "EFA        -3.058e-16   2.84e-15     -0.108      0.914   -5.92e-15    5.31e-15\n",
       "EEM         -6.96e-16   1.63e-15     -0.428      0.669   -3.91e-15    2.51e-15\n",
       "PSP            0.2500   2.07e-15   1.21e+14      0.000       0.250       0.250\n",
       "QAI            0.2500   7.55e-15   3.31e+13      0.000       0.250       0.250\n",
       "HYG        -4.626e-16   3.29e-15     -0.140      0.888   -6.97e-15    6.04e-15\n",
       "DBC        -3.406e-16   1.22e-15     -0.280      0.780   -2.75e-15    2.06e-15\n",
       "IYR            0.2500   1.44e-15   1.74e+14      0.000       0.250       0.250\n",
       "IEF            0.2500   5.15e-15   4.86e+13      0.000       0.250       0.250\n",
       "BWX        -2.026e-16   3.45e-15     -0.059      0.953   -7.02e-15    6.62e-15\n",
       "TIP        -6.563e-18   5.44e-15     -0.001      0.999   -1.08e-14    1.07e-14\n",
       "SHV          1.96e-15   4.64e-14      0.042      0.966   -8.96e-14    9.35e-14\n",
       "==============================================================================\n",
       "Omnibus:                       15.142   Durbin-Watson:                   0.183\n",
       "Prob(Omnibus):                  0.001   Jarque-Bera (JB):               34.008\n",
       "Skew:                          -0.335   Prob(JB):                     4.12e-08\n",
       "Kurtosis:                       5.086   Cond. No.                     1.10e+03\n",
       "==============================================================================\n",
       "\n",
       "Notes:\n",
       "[1] Standard Errors assume that the covariance matrix of the errors is correctly specified.\n",
       "[2] The condition number is large, 1.1e+03. This might indicate that there are\n",
       "strong multicollinearity or other numerical problems.\n",
       "\"\"\""
      ]
     },
     "execution_count": 10,
     "metadata": {},
     "output_type": "execute_result"
    }
   ],
   "source": [
    "X = sm.add_constant(rets)\n",
    "y = port\n",
    "mod_exact = sm.OLS(y, X).fit()\n",
    "display(mod_exact.params.to_frame().rename(columns={0:'weights'}).sort_values('weights',ascending=False).T.style.format('{:.2f}'))\n",
    "mod_exact.summary()"
   ]
  },
  {
   "cell_type": "markdown",
   "id": "cc7aeb96",
   "metadata": {},
   "source": [
    "## <span style='color:red'>2.2</span>"
   ]
  },
  {
   "cell_type": "code",
   "execution_count": 11,
   "id": "361c6330",
   "metadata": {
    "ExecuteTime": {
     "end_time": "2021-06-24T01:37:08.812093Z",
     "start_time": "2021-06-24T01:37:08.806286Z"
    },
    "jupyter": {
     "source_hidden": true
    }
   },
   "outputs": [
    {
     "data": {
      "text/html": [
       "<table class=\"simpletable\">\n",
       "<caption>OLS Regression Results</caption>\n",
       "<tr>\n",
       "  <th>Dep. Variable:</th>           <td>EEM</td>       <th>  R-squared:         </th> <td>   0.820</td>\n",
       "</tr>\n",
       "<tr>\n",
       "  <th>Model:</th>                   <td>OLS</td>       <th>  Adj. R-squared:    </th> <td>   0.805</td>\n",
       "</tr>\n",
       "<tr>\n",
       "  <th>Method:</th>             <td>Least Squares</td>  <th>  F-statistic:       </th> <td>   53.54</td>\n",
       "</tr>\n",
       "<tr>\n",
       "  <th>Date:</th>             <td>Mon, 12 Jun 2023</td> <th>  Prob (F-statistic):</th> <td>1.09e-42</td>\n",
       "</tr>\n",
       "<tr>\n",
       "  <th>Time:</th>                 <td>16:49:08</td>     <th>  Log-Likelihood:    </th> <td>  323.58</td>\n",
       "</tr>\n",
       "<tr>\n",
       "  <th>No. Observations:</th>      <td>   141</td>      <th>  AIC:               </th> <td>  -623.2</td>\n",
       "</tr>\n",
       "<tr>\n",
       "  <th>Df Residuals:</th>          <td>   129</td>      <th>  BIC:               </th> <td>  -587.8</td>\n",
       "</tr>\n",
       "<tr>\n",
       "  <th>Df Model:</th>              <td>    11</td>      <th>                     </th>     <td> </td>   \n",
       "</tr>\n",
       "<tr>\n",
       "  <th>Covariance Type:</th>      <td>nonrobust</td>    <th>                     </th>     <td> </td>   \n",
       "</tr>\n",
       "</table>\n",
       "<table class=\"simpletable\">\n",
       "<tr>\n",
       "    <td></td>       <th>coef</th>     <th>std err</th>      <th>t</th>      <th>P>|t|</th>  <th>[0.025</th>    <th>0.975]</th>  \n",
       "</tr>\n",
       "<tr>\n",
       "  <th>const</th> <td>   -0.0013</td> <td>    0.003</td> <td>   -0.436</td> <td> 0.663</td> <td>   -0.007</td> <td>    0.004</td>\n",
       "</tr>\n",
       "<tr>\n",
       "  <th>SPY</th>   <td>   -0.1121</td> <td>    0.153</td> <td>   -0.732</td> <td> 0.466</td> <td>   -0.415</td> <td>    0.191</td>\n",
       "</tr>\n",
       "<tr>\n",
       "  <th>EFA</th>   <td>    0.4998</td> <td>    0.137</td> <td>    3.649</td> <td> 0.000</td> <td>    0.229</td> <td>    0.771</td>\n",
       "</tr>\n",
       "<tr>\n",
       "  <th>PSP</th>   <td>   -0.0035</td> <td>    0.114</td> <td>   -0.031</td> <td> 0.975</td> <td>   -0.228</td> <td>    0.221</td>\n",
       "</tr>\n",
       "<tr>\n",
       "  <th>QAI</th>   <td>    0.7608</td> <td>    0.381</td> <td>    1.998</td> <td> 0.048</td> <td>    0.007</td> <td>    1.514</td>\n",
       "</tr>\n",
       "<tr>\n",
       "  <th>HYG</th>   <td>    0.3013</td> <td>    0.180</td> <td>    1.674</td> <td> 0.097</td> <td>   -0.055</td> <td>    0.657</td>\n",
       "</tr>\n",
       "<tr>\n",
       "  <th>DBC</th>   <td>   -0.0079</td> <td>    0.067</td> <td>   -0.117</td> <td> 0.907</td> <td>   -0.141</td> <td>    0.125</td>\n",
       "</tr>\n",
       "<tr>\n",
       "  <th>IYR</th>   <td>    0.0683</td> <td>    0.078</td> <td>    0.880</td> <td> 0.381</td> <td>   -0.085</td> <td>    0.222</td>\n",
       "</tr>\n",
       "<tr>\n",
       "  <th>IEF</th>   <td>   -0.9815</td> <td>    0.280</td> <td>   -3.508</td> <td> 0.001</td> <td>   -1.535</td> <td>   -0.428</td>\n",
       "</tr>\n",
       "<tr>\n",
       "  <th>BWX</th>   <td>    0.5450</td> <td>    0.165</td> <td>    3.302</td> <td> 0.001</td> <td>    0.218</td> <td>    0.872</td>\n",
       "</tr>\n",
       "<tr>\n",
       "  <th>TIP</th>   <td>    0.6943</td> <td>    0.294</td> <td>    2.361</td> <td> 0.020</td> <td>    0.112</td> <td>    1.276</td>\n",
       "</tr>\n",
       "<tr>\n",
       "  <th>SHV</th>   <td>    3.5707</td> <td>    2.954</td> <td>    1.209</td> <td> 0.229</td> <td>   -2.273</td> <td>    9.414</td>\n",
       "</tr>\n",
       "</table>\n",
       "<table class=\"simpletable\">\n",
       "<tr>\n",
       "  <th>Omnibus:</th>       <td> 1.905</td> <th>  Durbin-Watson:     </th> <td>   2.324</td>\n",
       "</tr>\n",
       "<tr>\n",
       "  <th>Prob(Omnibus):</th> <td> 0.386</td> <th>  Jarque-Bera (JB):  </th> <td>   1.469</td>\n",
       "</tr>\n",
       "<tr>\n",
       "  <th>Skew:</th>          <td>-0.010</td> <th>  Prob(JB):          </th> <td>   0.480</td>\n",
       "</tr>\n",
       "<tr>\n",
       "  <th>Kurtosis:</th>      <td> 2.500</td> <th>  Cond. No.          </th> <td>1.38e+03</td>\n",
       "</tr>\n",
       "</table><br/><br/>Notes:<br/>[1] Standard Errors assume that the covariance matrix of the errors is correctly specified.<br/>[2] The condition number is large, 1.38e+03. This might indicate that there are<br/>strong multicollinearity or other numerical problems."
      ],
      "text/latex": [
       "\\begin{center}\n",
       "\\begin{tabular}{lclc}\n",
       "\\toprule\n",
       "\\textbf{Dep. Variable:}    &       EEM        & \\textbf{  R-squared:         } &     0.820   \\\\\n",
       "\\textbf{Model:}            &       OLS        & \\textbf{  Adj. R-squared:    } &     0.805   \\\\\n",
       "\\textbf{Method:}           &  Least Squares   & \\textbf{  F-statistic:       } &     53.54   \\\\\n",
       "\\textbf{Date:}             & Mon, 12 Jun 2023 & \\textbf{  Prob (F-statistic):} &  1.09e-42   \\\\\n",
       "\\textbf{Time:}             &     16:49:08     & \\textbf{  Log-Likelihood:    } &    323.58   \\\\\n",
       "\\textbf{No. Observations:} &         141      & \\textbf{  AIC:               } &    -623.2   \\\\\n",
       "\\textbf{Df Residuals:}     &         129      & \\textbf{  BIC:               } &    -587.8   \\\\\n",
       "\\textbf{Df Model:}         &          11      & \\textbf{                     } &             \\\\\n",
       "\\textbf{Covariance Type:}  &    nonrobust     & \\textbf{                     } &             \\\\\n",
       "\\bottomrule\n",
       "\\end{tabular}\n",
       "\\begin{tabular}{lcccccc}\n",
       "               & \\textbf{coef} & \\textbf{std err} & \\textbf{t} & \\textbf{P$> |$t$|$} & \\textbf{[0.025} & \\textbf{0.975]}  \\\\\n",
       "\\midrule\n",
       "\\textbf{const} &      -0.0013  &        0.003     &    -0.436  &         0.663        &       -0.007    &        0.004     \\\\\n",
       "\\textbf{SPY}   &      -0.1121  &        0.153     &    -0.732  &         0.466        &       -0.415    &        0.191     \\\\\n",
       "\\textbf{EFA}   &       0.4998  &        0.137     &     3.649  &         0.000        &        0.229    &        0.771     \\\\\n",
       "\\textbf{PSP}   &      -0.0035  &        0.114     &    -0.031  &         0.975        &       -0.228    &        0.221     \\\\\n",
       "\\textbf{QAI}   &       0.7608  &        0.381     &     1.998  &         0.048        &        0.007    &        1.514     \\\\\n",
       "\\textbf{HYG}   &       0.3013  &        0.180     &     1.674  &         0.097        &       -0.055    &        0.657     \\\\\n",
       "\\textbf{DBC}   &      -0.0079  &        0.067     &    -0.117  &         0.907        &       -0.141    &        0.125     \\\\\n",
       "\\textbf{IYR}   &       0.0683  &        0.078     &     0.880  &         0.381        &       -0.085    &        0.222     \\\\\n",
       "\\textbf{IEF}   &      -0.9815  &        0.280     &    -3.508  &         0.001        &       -1.535    &       -0.428     \\\\\n",
       "\\textbf{BWX}   &       0.5450  &        0.165     &     3.302  &         0.001        &        0.218    &        0.872     \\\\\n",
       "\\textbf{TIP}   &       0.6943  &        0.294     &     2.361  &         0.020        &        0.112    &        1.276     \\\\\n",
       "\\textbf{SHV}   &       3.5707  &        2.954     &     1.209  &         0.229        &       -2.273    &        9.414     \\\\\n",
       "\\bottomrule\n",
       "\\end{tabular}\n",
       "\\begin{tabular}{lclc}\n",
       "\\textbf{Omnibus:}       &  1.905 & \\textbf{  Durbin-Watson:     } &    2.324  \\\\\n",
       "\\textbf{Prob(Omnibus):} &  0.386 & \\textbf{  Jarque-Bera (JB):  } &    1.469  \\\\\n",
       "\\textbf{Skew:}          & -0.010 & \\textbf{  Prob(JB):          } &    0.480  \\\\\n",
       "\\textbf{Kurtosis:}      &  2.500 & \\textbf{  Cond. No.          } & 1.38e+03  \\\\\n",
       "\\bottomrule\n",
       "\\end{tabular}\n",
       "%\\caption{OLS Regression Results}\n",
       "\\end{center}\n",
       "\n",
       "Notes: \\newline\n",
       " [1] Standard Errors assume that the covariance matrix of the errors is correctly specified. \\newline\n",
       " [2] The condition number is large, 1.38e+03. This might indicate that there are \\newline\n",
       " strong multicollinearity or other numerical problems."
      ],
      "text/plain": [
       "<class 'statsmodels.iolib.summary.Summary'>\n",
       "\"\"\"\n",
       "                            OLS Regression Results                            \n",
       "==============================================================================\n",
       "Dep. Variable:                    EEM   R-squared:                       0.820\n",
       "Model:                            OLS   Adj. R-squared:                  0.805\n",
       "Method:                 Least Squares   F-statistic:                     53.54\n",
       "Date:                Mon, 12 Jun 2023   Prob (F-statistic):           1.09e-42\n",
       "Time:                        16:49:08   Log-Likelihood:                 323.58\n",
       "No. Observations:                 141   AIC:                            -623.2\n",
       "Df Residuals:                     129   BIC:                            -587.8\n",
       "Df Model:                          11                                         \n",
       "Covariance Type:            nonrobust                                         \n",
       "==============================================================================\n",
       "                 coef    std err          t      P>|t|      [0.025      0.975]\n",
       "------------------------------------------------------------------------------\n",
       "const         -0.0013      0.003     -0.436      0.663      -0.007       0.004\n",
       "SPY           -0.1121      0.153     -0.732      0.466      -0.415       0.191\n",
       "EFA            0.4998      0.137      3.649      0.000       0.229       0.771\n",
       "PSP           -0.0035      0.114     -0.031      0.975      -0.228       0.221\n",
       "QAI            0.7608      0.381      1.998      0.048       0.007       1.514\n",
       "HYG            0.3013      0.180      1.674      0.097      -0.055       0.657\n",
       "DBC           -0.0079      0.067     -0.117      0.907      -0.141       0.125\n",
       "IYR            0.0683      0.078      0.880      0.381      -0.085       0.222\n",
       "IEF           -0.9815      0.280     -3.508      0.001      -1.535      -0.428\n",
       "BWX            0.5450      0.165      3.302      0.001       0.218       0.872\n",
       "TIP            0.6943      0.294      2.361      0.020       0.112       1.276\n",
       "SHV            3.5707      2.954      1.209      0.229      -2.273       9.414\n",
       "==============================================================================\n",
       "Omnibus:                        1.905   Durbin-Watson:                   2.324\n",
       "Prob(Omnibus):                  0.386   Jarque-Bera (JB):                1.469\n",
       "Skew:                          -0.010   Prob(JB):                        0.480\n",
       "Kurtosis:                       2.500   Cond. No.                     1.38e+03\n",
       "==============================================================================\n",
       "\n",
       "Notes:\n",
       "[1] Standard Errors assume that the covariance matrix of the errors is correctly specified.\n",
       "[2] The condition number is large, 1.38e+03. This might indicate that there are\n",
       "strong multicollinearity or other numerical problems.\n",
       "\"\"\""
      ]
     },
     "execution_count": 11,
     "metadata": {},
     "output_type": "execute_result"
    }
   ],
   "source": [
    "T1 = '2023'\n",
    "T2 = '2024'\n",
    "TICKrep = 'EEM'\n",
    "\n",
    "rets_IS = rets.loc[:T1,:]\n",
    "\n",
    "X = sm.add_constant(rets_IS.drop(columns=TICKrep))\n",
    "y = rets_IS[[TICKrep]]\n",
    "mod_replicate = sm.OLS(y, X).fit()\n",
    "mod_replicate.summary()"
   ]
  },
  {
   "cell_type": "markdown",
   "id": "edf9133b",
   "metadata": {},
   "source": [
    "### The R-squared is reported in the table above.\n",
    "\n",
    "Note that while we can estimate an R-squared, it doesn't make much sense in a regression without an intercept. \n",
    "- It does not need to be between 0 and 1.\n",
    "\n",
    "The stats-models Python package puts a \"Note\" at the bottom of the table above reminding users of that fact."
   ]
  },
  {
   "cell_type": "markdown",
   "id": "89b8d8cf",
   "metadata": {},
   "source": [
    "### See the t-stats below, in descending order:"
   ]
  },
  {
   "cell_type": "code",
   "execution_count": 12,
   "id": "c1a9857e",
   "metadata": {
    "jupyter": {
     "source_hidden": true
    }
   },
   "outputs": [
    {
     "data": {
      "text/html": [
       "<style type=\"text/css\">\n",
       "</style>\n",
       "<table id=\"T_ab034\">\n",
       "  <thead>\n",
       "    <tr>\n",
       "      <th class=\"blank level0\" >&nbsp;</th>\n",
       "      <th id=\"T_ab034_level0_col0\" class=\"col_heading level0 col0\" >EFA</th>\n",
       "      <th id=\"T_ab034_level0_col1\" class=\"col_heading level0 col1\" >BWX</th>\n",
       "      <th id=\"T_ab034_level0_col2\" class=\"col_heading level0 col2\" >TIP</th>\n",
       "      <th id=\"T_ab034_level0_col3\" class=\"col_heading level0 col3\" >QAI</th>\n",
       "      <th id=\"T_ab034_level0_col4\" class=\"col_heading level0 col4\" >HYG</th>\n",
       "      <th id=\"T_ab034_level0_col5\" class=\"col_heading level0 col5\" >SHV</th>\n",
       "      <th id=\"T_ab034_level0_col6\" class=\"col_heading level0 col6\" >IYR</th>\n",
       "      <th id=\"T_ab034_level0_col7\" class=\"col_heading level0 col7\" >PSP</th>\n",
       "      <th id=\"T_ab034_level0_col8\" class=\"col_heading level0 col8\" >DBC</th>\n",
       "      <th id=\"T_ab034_level0_col9\" class=\"col_heading level0 col9\" >const</th>\n",
       "      <th id=\"T_ab034_level0_col10\" class=\"col_heading level0 col10\" >SPY</th>\n",
       "      <th id=\"T_ab034_level0_col11\" class=\"col_heading level0 col11\" >IEF</th>\n",
       "    </tr>\n",
       "  </thead>\n",
       "  <tbody>\n",
       "    <tr>\n",
       "      <th id=\"T_ab034_level0_row0\" class=\"row_heading level0 row0\" >t-stats</th>\n",
       "      <td id=\"T_ab034_row0_col0\" class=\"data row0 col0\" >3.6</td>\n",
       "      <td id=\"T_ab034_row0_col1\" class=\"data row0 col1\" >3.3</td>\n",
       "      <td id=\"T_ab034_row0_col2\" class=\"data row0 col2\" >2.4</td>\n",
       "      <td id=\"T_ab034_row0_col3\" class=\"data row0 col3\" >2.0</td>\n",
       "      <td id=\"T_ab034_row0_col4\" class=\"data row0 col4\" >1.7</td>\n",
       "      <td id=\"T_ab034_row0_col5\" class=\"data row0 col5\" >1.2</td>\n",
       "      <td id=\"T_ab034_row0_col6\" class=\"data row0 col6\" >0.9</td>\n",
       "      <td id=\"T_ab034_row0_col7\" class=\"data row0 col7\" >-0.0</td>\n",
       "      <td id=\"T_ab034_row0_col8\" class=\"data row0 col8\" >-0.1</td>\n",
       "      <td id=\"T_ab034_row0_col9\" class=\"data row0 col9\" >-0.4</td>\n",
       "      <td id=\"T_ab034_row0_col10\" class=\"data row0 col10\" >-0.7</td>\n",
       "      <td id=\"T_ab034_row0_col11\" class=\"data row0 col11\" >-3.5</td>\n",
       "    </tr>\n",
       "  </tbody>\n",
       "</table>\n"
      ],
      "text/plain": [
       "<pandas.io.formats.style.Styler at 0x1508651c0>"
      ]
     },
     "execution_count": 12,
     "metadata": {},
     "output_type": "execute_result"
    }
   ],
   "source": [
    "mod_replicate.tvalues.sort_values(ascending=False).to_frame().rename(columns={0:'t-stats'}).T.style.format('{:.1f}')"
   ]
  },
  {
   "cell_type": "code",
   "execution_count": 13,
   "id": "8022080d",
   "metadata": {
    "jupyter": {
     "source_hidden": true
    }
   },
   "outputs": [
    {
     "data": {
      "image/png": "[encoded data removed]",
      "text/plain": [
       "<Figure size 1200x500 with 1 Axes>"
      ]
     },
     "metadata": {},
     "output_type": "display_data"
    }
   ],
   "source": [
    "pd.concat([y, mod_replicate.fittedvalues.rename('IS Replication')], axis=1).plot(figsize=(12, 5))\n",
    "plt.show()"
   ]
  },
  {
   "cell_type": "markdown",
   "id": "91f417bb",
   "metadata": {},
   "source": [
    "## 2.3"
   ]
  },
  {
   "cell_type": "code",
   "execution_count": 14,
   "id": "c91f5ce1",
   "metadata": {
    "ExecuteTime": {
     "end_time": "2021-06-24T01:37:08.826712Z",
     "start_time": "2021-06-24T01:37:08.822348Z"
    },
    "jupyter": {
     "source_hidden": true
    }
   },
   "outputs": [],
   "source": [
    "reg = LinearRegression(fit_intercept=True).fit(X,y)\n",
    "fit_comp_IS = pd.concat([y,pd.DataFrame(reg.predict(X),index=y.index)],axis=1).rename(columns={0:'IS'})\n",
    "corr_IS = fit_comp_IS.corr().iloc[0,1]"
   ]
  },
  {
   "cell_type": "code",
   "execution_count": 15,
   "id": "83a05412",
   "metadata": {
    "jupyter": {
     "source_hidden": true
    }
   },
   "outputs": [],
   "source": [
    "rets_OOS = rets.loc[T2:,:]\n",
    "X = sm.add_constant(rets_OOS.drop(columns=TICKrep))\n",
    "y = rets_OOS[[TICKrep]]\n",
    "\n",
    "fit_comp_OOS = pd.concat([y,pd.DataFrame(reg.predict(X),index=y.index)],axis=1).rename(columns={0:'OOS'})\n",
    "corr_OOS = fit_comp_OOS.corr().iloc[0,1]"
   ]
  },
  {
   "cell_type": "code",
   "execution_count": 16,
   "id": "a49649a4",
   "metadata": {
    "jupyter": {
     "source_hidden": true
    }
   },
   "outputs": [
    {
     "name": "stdout",
     "output_type": "stream",
     "text": [
      "Correlation between EEM and Replicating Portfolio\n",
      "In-Sample: 90.6%\n",
      "Out-of-Sample: 76.7%\n"
     ]
    }
   ],
   "source": [
    "print(f'Correlation between {TICKrep} and Replicating Portfolio')\n",
    "print(f'In-Sample: {corr_IS:.1%}')\n",
    "print(f'Out-of-Sample: {corr_OOS:.1%}')"
   ]
  },
  {
   "cell_type": "code",
   "execution_count": 17,
   "id": "cb6df89c",
   "metadata": {
    "jupyter": {
     "source_hidden": true
    }
   },
   "outputs": [
    {
     "data": {
      "image/png": "[encoded data removed]",
      "text/plain": [
       "<Figure size 1200x500 with 1 Axes>"
      ]
     },
     "metadata": {},
     "output_type": "display_data"
    }
   ],
   "source": [
    "fit_comp_OOS.plot(figsize=(12, 5))\n",
    "plt.show()"
   ]
  }
 ],
 "metadata": {
  "hide_input": true,
  "kernelspec": {
   "display_name": "Python 3 (ipykernel)",
   "language": "python",
   "name": "python3"
  },
  "language_info": {
   "codemirror_mode": {
    "name": "ipython",
    "version": 3
   },
   "file_extension": ".py",
   "mimetype": "text/x-python",
   "name": "python",
   "nbconvert_exporter": "python",
   "pygments_lexer": "ipython3",
   "version": "3.9.6"
  },
  "toc": {
   "base_numbering": 1,
   "nav_menu": {},
   "number_sections": false,
   "sideBar": true,
   "skip_h1_title": false,
   "title_cell": "Table of Contents",
   "title_sidebar": "Contents",
   "toc_cell": false,
   "toc_position": {},
   "toc_section_display": true,
   "toc_window_display": false
  },
  "varInspector": {
   "cols": {
    "lenName": 16,
    "lenType": 16,
    "lenVar": 40
   },
   "kernels_config": {
    "python": {
     "delete_cmd_postfix": "",
     "delete_cmd_prefix": "del ",
     "library": "var_list.py",
     "varRefreshCmd": "print(var_dic_list())"
    },
    "r": {
     "delete_cmd_postfix": ") ",
     "delete_cmd_prefix": "rm(",
     "library": "var_list.r",
     "varRefreshCmd": "cat(var_dic_list()) "
    }
   },
   "types_to_exclude": [
    "module",
    "function",
    "builtin_function_or_method",
    "instance",
    "_Feature"
   ],
   "window_display": false
  }
 },
 "nbformat": 4,
 "nbformat_minor": 5
}

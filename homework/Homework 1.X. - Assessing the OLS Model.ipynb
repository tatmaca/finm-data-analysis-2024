{
 "cells": [
  {
   "cell_type": "markdown",
   "id": "a05f2840",
   "metadata": {},
   "source": [
    "# Homework 1.X. - Assessing the OLS Model\n",
    "## Data Analysis\n",
    "### FINM August Review \n",
    "\n",
    "Mark Hendricks\n",
    "\n",
    "hendricks@uchicago.edu"
   ]
  },
  {
   "cell_type": "markdown",
   "id": "2efd9849",
   "metadata": {},
   "source": [
    "# 1 Multivariate Regression"
   ]
  },
  {
   "cell_type": "markdown",
   "id": "1542cfce",
   "metadata": {},
   "source": [
    "This problem utilizes the data in `../data/multi_asset_etf_data.xlsx`.\n",
    "* Return data on various asset classes.\n",
    "* This data comes via ETFs, which we will discuss in the Markets series."
   ]
  },
  {
   "cell_type": "markdown",
   "id": "4d91dc44",
   "metadata": {},
   "source": [
    "## 1.1 Correlation\n",
    "\n",
    "Calculate and display the correlation matrix of the returns.\n",
    "\n",
    "Consider displaying it with `seaborn.heatmap`.\n",
    "\n",
    "Which pair has the highest correlation? And the smallest (most negative)?"
   ]
  },
  {
   "cell_type": "markdown",
   "id": "674dca5d",
   "metadata": {},
   "source": [
    "## 1.2 Multivariate Regression\n",
    "\n",
    "Suppose that we want to decompose `PSP` into a linear combination of other asset classes.\n",
    "* `PSP` is a benchmark of private equity returns.\n",
    "* There is substantial research (and controversy) as to whether private equity returns can be produced from other simple assets.\n",
    "* We will see.\n",
    "\n",
    "$$r_t^{\\text{PSP}} = \\alpha + \\boldsymbol{\\beta}\\boldsymbol{r}_t + \\epsilon_t$$\n",
    "\n",
    "where $\\boldsymbol{r}_t$ denotes the vector of all the other returns (excluding PSP) at time $t$.\n",
    "\n",
    "Report\n",
    "* the estimated alpha\n",
    "* the estimated betas\n",
    "* the r-squared\n",
    "\n",
    "#### Python tip\n",
    "Consider forming `X = rets.drop(columns=['PSP'])`.\n",
    "\n",
    "Consider using one of the following for the regression.\n",
    "* `statsmodels.OLS`\n",
    "* `sklearn.linear_models.LinearRegression()`\n",
    "\n",
    "The former will include various regression statistics. The latter will just produce the estimates."
   ]
  },
  {
   "cell_type": "markdown",
   "id": "79075b77",
   "metadata": {},
   "source": [
    "## 1.3 Interpretation\n",
    "\n",
    "Based on your estimates, do you think it is feasible to replicate `PSP` with these other assets? Be specific, citing your answers to the previous question. What does $\\alpha$ indicate? What does the r-squared statistic indicate?"
   ]
  },
  {
   "cell_type": "markdown",
   "id": "b5c6a298",
   "metadata": {},
   "source": [
    "## 1.4 Multicollinearity\n",
    "\n",
    "Should we be worried about multicollinearity in this case?\n",
    "\n",
    "Calculate some metrics about $X'X$, (noting that in our case \"$X$\" is the array of return data, excluding `PSP`.\n",
    "\n",
    "* determinant\n",
    "* conditioning number\n",
    "\n",
    "What do these metrics indicate?\n",
    "\n",
    "#### Python tip\n",
    "You may find these `numpy` functions helpful:\n",
    "* `numpy.linalg.cond()`\n",
    "* `numpy.linalg.det()`"
   ]
  },
  {
   "cell_type": "markdown",
   "id": "0a4ddae7",
   "metadata": {},
   "source": [
    "## 1.5 Impact of multicollinearity\n",
    "\n",
    "With multicollinearity, we are concerned that the regression estimates\n",
    "* are imprecise.\n",
    "* will change a lot in response to small changes in new data.\n",
    "* will perform badly out of sample.\n",
    "\n",
    "To investigate...\n",
    "* report the t-stats of the betas"
   ]
  },
  {
   "cell_type": "markdown",
   "id": "36e721fd",
   "metadata": {},
   "source": [
    "## 1.X Extra: \n",
    "Estimate the regression, but this time using only data through 2019. \n",
    "* Apply these estimated betas to the data in 2020-2022 to construct the replication of `PSP` ($\\hat{y}$) out of sample.\n",
    "* What is the correlation of PSP in 2020-2022 versus this out-of-sample regression estimate?\n",
    "\n",
    "Graph `PSP` against the regression estimate, both through 2019 (in sample) and 2020-2022 (out of sample.)"
   ]
  },
  {
   "cell_type": "markdown",
   "id": "f0176286",
   "metadata": {},
   "source": [
    "# Appendix: Condition number of a matrix\n",
    "\n",
    "$\\newcommand{\\olsb}{\\boldsymbol{b}}$\n",
    "$\\newcommand{\\olsy}{\\boldsymbol{y}}$\n",
    "\n",
    "Consider the linear equation\n",
    "\n",
    "$$\\olsy = a + X\\olsb + e$$\n",
    "\n",
    "Solving for $\\olsb$,\n",
    "$$(X'X)\\olsb = X'\\olsy$$\n",
    "\n",
    "Denote the condition number of $X'X$ as $\\kappa$.\n",
    "\n",
    "Then,\n",
    "$$\\frac{||\\delta \\olsb||}{||\\olsb||} \\le \\kappa \\frac{||\\delta X'\\olsy||}{||X'\\olsy||}$$\n",
    "\n",
    "#### This says that \n",
    "- estimation error of size $\\delta$ in the covariation of $X$ and $\\olsy$ \n",
    "- will lead to errors up to size $\\kappa\\delta$ in the estimation of $\\olsb$."
   ]
  },
  {
   "cell_type": "markdown",
   "id": "019ffe54-78ce-4060-8431-35f12ede6aac",
   "metadata": {},
   "source": [
    "***"
   ]
  },
  {
   "cell_type": "markdown",
   "id": "ca21fd90",
   "metadata": {},
   "source": [
    "# 2 Heteroskedasticity \\& Serial Correlation"
   ]
  },
  {
   "cell_type": "markdown",
   "id": "3cca4338",
   "metadata": {},
   "source": [
    "$$\\newcommand{\\rspyt}{r_{\\text{spy}}}$$\n",
    "$$\\newcommand{\\rspyt}{r_{\\text{spy},t}}$$"
   ]
  },
  {
   "cell_type": "markdown",
   "id": "8d4ed480",
   "metadata": {},
   "source": [
    "## Data\n",
    "\n",
    "This problem uses the file, `../data/spy_rates_data.xlsx`.\n",
    "* Return rates for SPY, the return on the S\\&P 500. Denote this as $\\rspyt$.\n",
    "* Dividend-price ratio for the S\\&P 500.\n",
    "* 10-year yields on US Treasuries."
   ]
  },
  {
   "cell_type": "markdown",
   "id": "c6e0c373",
   "metadata": {},
   "source": [
    "## 2.1\n",
    "Use linear regression to calculate whether S\\&P 500 returns (SPY) are impacted by 10-year yields and the dividend-price ratio.\n",
    "\n",
    "$$\\begin{align}\n",
    "\\rspyt = \\alpha + \\boldsymbol{\\beta}'\\boldsymbol{X}_t + \\epsilon_t\n",
    "\\label{eq:spy_on_macro}\n",
    "\\end{align}$$\n",
    "\n",
    "where $\\boldsymbol{X}$ denotes the matrix of values of the 10-year-yield and the dividend-price ratio.\n",
    "\n",
    "Report the betas."
   ]
  },
  {
   "cell_type": "markdown",
   "id": "629fdc00",
   "metadata": {},
   "source": [
    "## 2.2\n",
    "Try using `statsmodels.OLS` to estimate the regression, and print the \"summary\" of the results which will show the t-stats, p-values, etc. Are either of the regressors are statistically significant?"
   ]
  },
  {
   "cell_type": "markdown",
   "id": "583757ae",
   "metadata": {},
   "source": [
    "## 2.3\n",
    "Calculate the correlation between the sample residuals, $e_t$, and their lagged value, $e_{t-1}$. Are they highly correlated? You may find it helpful to use .shift in pandas to get the lagged series."
   ]
  },
  {
   "cell_type": "markdown",
   "id": "1939464a",
   "metadata": {},
   "source": [
    "## 2.4\n",
    "Calculate the regression of\n",
    "$$e_t = \\alpha + \\boldsymbol{\\beta}'\\boldsymbol{X}_t + u_t$$\n",
    "\n",
    "## 2.5\n",
    "What do the previous two calculations have to do with identifying serial correlation and heteroskedasticity?"
   ]
  }
 ],
 "metadata": {
  "hide_input": false,
  "kernelspec": {
   "display_name": "Python 3 (ipykernel)",
   "language": "python",
   "name": "python3"
  },
  "language_info": {
   "codemirror_mode": {
    "name": "ipython",
    "version": 3
   },
   "file_extension": ".py",
   "mimetype": "text/x-python",
   "name": "python",
   "nbconvert_exporter": "python",
   "pygments_lexer": "ipython3",
   "version": "3.11.2"
  }
 },
 "nbformat": 4,
 "nbformat_minor": 5
}
